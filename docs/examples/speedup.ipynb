{
 "cells": [
  {
   "cell_type": "code",
   "execution_count": 1,
   "id": "c45d3fd6-8af1-4df7-ac05-2805da805893",
   "metadata": {},
   "outputs": [],
   "source": [
    "from pyEQL import Solution"
   ]
  },
  {
   "cell_type": "markdown",
   "id": "a376cef5-2e52-4aa7-a365-57337b20171b",
   "metadata": {},
   "source": [
    "### Before optimization"
   ]
  },
  {
   "cell_type": "code",
   "execution_count": 2,
   "id": "bdf1fb10-a567-499d-a0c2-2e3ea4e7fdab",
   "metadata": {},
   "outputs": [
    {
     "name": "stdout",
     "output_type": "stream",
     "text": [
      "298 ms ± 4.11 ms per loop (mean ± std. dev. of 7 runs, 1 loop each)\n"
     ]
    }
   ],
   "source": [
    "%%timeit\n",
    "s = Solution({\"Na+\": \"2 mol/L\", \"Cl-\": \"2 mol/L\"})"
   ]
  },
  {
   "cell_type": "code",
   "execution_count": 3,
   "id": "b6ce2ea9-8a86-4140-bd82-35f72f06fbbc",
   "metadata": {},
   "outputs": [],
   "source": [
    "s = Solution({\"Na+\": \"2 mol/L\", \"Cl-\": \"2 mol/L\"})"
   ]
  },
  {
   "cell_type": "code",
   "execution_count": 4,
   "id": "3d391433-2a16-4470-8c40-2b43cda68b35",
   "metadata": {},
   "outputs": [
    {
     "name": "stdout",
     "output_type": "stream",
     "text": [
      "27.1 ms ± 277 µs per loop (mean ± std. dev. of 7 runs, 10 loops each)\n"
     ]
    }
   ],
   "source": [
    "%%timeit\n",
    "s.get_activity_coefficient(\"Na+\")"
   ]
  },
  {
   "cell_type": "code",
   "execution_count": 5,
   "id": "7ef3de2d-15cc-4f3e-8753-1b9de8238aa0",
   "metadata": {},
   "outputs": [
    {
     "name": "stderr",
     "output_type": "stream",
     "text": [
      "WARNING 2023-11-04 17:15:55,353 solution.py viscosity_kinematic 599 Viscosity coefficients for NaCl not found. Viscosity will be approximate.\n",
      "WARNING 2023-11-04 17:15:55,408 solution.py viscosity_kinematic 599 Viscosity coefficients for NaCl not found. Viscosity will be approximate.\n",
      "WARNING 2023-11-04 17:15:55,460 solution.py viscosity_kinematic 599 Viscosity coefficients for NaCl not found. Viscosity will be approximate.\n",
      "WARNING 2023-11-04 17:15:55,489 engines.py get_activity_coefficient 314 Ionic strength too high to estimate activity for species H[+1]. Specify parameters for Pitzer model. Returning unit activity coefficient\n",
      "WARNING 2023-11-04 17:15:55,507 solution.py viscosity_kinematic 599 Viscosity coefficients for NaCl not found. Viscosity will be approximate.\n",
      "WARNING 2023-11-04 17:15:55,535 engines.py get_activity_coefficient 314 Ionic strength too high to estimate activity for species OH[-1]. Specify parameters for Pitzer model. Returning unit activity coefficient\n",
      "WARNING 2023-11-04 17:15:55,644 engines.py get_activity_coefficient 314 Ionic strength too high to estimate activity for species H[+1]. Specify parameters for Pitzer model. Returning unit activity coefficient\n",
      "WARNING 2023-11-04 17:15:55,678 engines.py get_activity_coefficient 314 Ionic strength too high to estimate activity for species OH[-1]. Specify parameters for Pitzer model. Returning unit activity coefficient\n",
      "WARNING 2023-11-04 17:15:55,788 engines.py get_activity_coefficient 314 Ionic strength too high to estimate activity for species H[+1]. Specify parameters for Pitzer model. Returning unit activity coefficient\n",
      "WARNING 2023-11-04 17:15:55,822 engines.py get_activity_coefficient 314 Ionic strength too high to estimate activity for species OH[-1]. Specify parameters for Pitzer model. Returning unit activity coefficient\n",
      "WARNING 2023-11-04 17:15:55,932 engines.py get_activity_coefficient 314 Ionic strength too high to estimate activity for species H[+1]. Specify parameters for Pitzer model. Returning unit activity coefficient\n",
      "WARNING 2023-11-04 17:15:55,964 engines.py get_activity_coefficient 314 Ionic strength too high to estimate activity for species OH[-1]. Specify parameters for Pitzer model. Returning unit activity coefficient\n",
      "WARNING 2023-11-04 17:15:56,071 engines.py get_activity_coefficient 314 Ionic strength too high to estimate activity for species H[+1]. Specify parameters for Pitzer model. Returning unit activity coefficient\n",
      "WARNING 2023-11-04 17:15:56,104 engines.py get_activity_coefficient 314 Ionic strength too high to estimate activity for species OH[-1]. Specify parameters for Pitzer model. Returning unit activity coefficient\n",
      "WARNING 2023-11-04 17:15:56,211 engines.py get_activity_coefficient 314 Ionic strength too high to estimate activity for species H[+1]. Specify parameters for Pitzer model. Returning unit activity coefficient\n",
      "WARNING 2023-11-04 17:15:56,242 engines.py get_activity_coefficient 314 Ionic strength too high to estimate activity for species OH[-1]. Specify parameters for Pitzer model. Returning unit activity coefficient\n",
      "WARNING 2023-11-04 17:15:56,348 engines.py get_activity_coefficient 314 Ionic strength too high to estimate activity for species H[+1]. Specify parameters for Pitzer model. Returning unit activity coefficient\n",
      "WARNING 2023-11-04 17:15:56,384 engines.py get_activity_coefficient 314 Ionic strength too high to estimate activity for species OH[-1]. Specify parameters for Pitzer model. Returning unit activity coefficient\n",
      "WARNING 2023-11-04 17:15:56,495 engines.py get_activity_coefficient 314 Ionic strength too high to estimate activity for species H[+1]. Specify parameters for Pitzer model. Returning unit activity coefficient\n",
      "WARNING 2023-11-04 17:15:56,528 engines.py get_activity_coefficient 314 Ionic strength too high to estimate activity for species OH[-1]. Specify parameters for Pitzer model. Returning unit activity coefficient\n"
     ]
    },
    {
     "name": "stdout",
     "output_type": "stream",
     "text": [
      "142 ms ± 1.96 ms per loop (mean ± std. dev. of 7 runs, 1 loop each)\n"
     ]
    }
   ],
   "source": [
    "%%timeit\n",
    "s.conductivity"
   ]
  },
  {
   "cell_type": "code",
   "execution_count": 6,
   "id": "b30d7f1c-9630-4e21-b275-cb3befc2433f",
   "metadata": {},
   "outputs": [
    {
     "name": "stdout",
     "output_type": "stream",
     "text": [
      "5.27 ms ± 153 µs per loop (mean ± std. dev. of 7 runs, 100 loops each)\n"
     ]
    }
   ],
   "source": [
    "%%timeit\n",
    "s.ionic_strength"
   ]
  },
  {
   "cell_type": "code",
   "execution_count": 10,
   "id": "40a55c8b-947d-4806-8094-2188f244816a",
   "metadata": {},
   "outputs": [
    {
     "name": "stdout",
     "output_type": "stream",
     "text": [
      "2.43 ms ± 18.5 µs per loop (mean ± std. dev. of 7 runs, 100 loops each)\n"
     ]
    }
   ],
   "source": [
    "%%timeit\n",
    "s.get_transport_number(\"Na+\")"
   ]
  },
  {
   "cell_type": "code",
   "execution_count": 8,
   "id": "314d44f5-88c1-44a8-b0e2-3e072e3ad8ab",
   "metadata": {},
   "outputs": [
    {
     "ename": "SyntaxError",
     "evalue": "'break' outside loop (668683560.py, line 1)",
     "output_type": "error",
     "traceback": [
      "\u001b[0;36m  Cell \u001b[0;32mIn [8], line 1\u001b[0;36m\u001b[0m\n\u001b[0;31m    break\u001b[0m\n\u001b[0m    ^\u001b[0m\n\u001b[0;31mSyntaxError\u001b[0m\u001b[0;31m:\u001b[0m 'break' outside loop\n"
     ]
    }
   ],
   "source": [
    "break"
   ]
  },
  {
   "cell_type": "markdown",
   "id": "e8ae1012-8728-448a-bebe-03752f97a578",
   "metadata": {},
   "source": [
    "### After optimization"
   ]
  },
  {
   "cell_type": "code",
   "execution_count": 2,
   "id": "2f1739e4-da68-484f-b691-9be13a00bc94",
   "metadata": {},
   "outputs": [
    {
     "name": "stdout",
     "output_type": "stream",
     "text": [
      "85 ms ± 1.46 ms per loop (mean ± std. dev. of 7 runs, 10 loops each)\n"
     ]
    }
   ],
   "source": [
    "%%timeit\n",
    "s = Solution({\"Na+\": \"2 mol/L\", \"Cl-\": \"2 mol/L\"})"
   ]
  },
  {
   "cell_type": "code",
   "execution_count": 3,
   "id": "cc95a42c-1151-4756-9289-6aee0717fe81",
   "metadata": {},
   "outputs": [],
   "source": [
    "s = Solution({\"Na+\": \"2 mol/L\", \"Cl-\": \"2 mol/L\"})"
   ]
  },
  {
   "cell_type": "code",
   "execution_count": 4,
   "id": "3940edb9-94d6-45bd-a6db-c535d4968045",
   "metadata": {},
   "outputs": [
    {
     "name": "stdout",
     "output_type": "stream",
     "text": [
      "14 ms ± 239 µs per loop (mean ± std. dev. of 7 runs, 100 loops each)\n"
     ]
    }
   ],
   "source": [
    "%%timeit\n",
    "s.get_activity_coefficient(\"Na+\")"
   ]
  },
  {
   "cell_type": "code",
   "execution_count": 5,
   "id": "185d5272-84a1-4944-bb39-948cc970989d",
   "metadata": {},
   "outputs": [
    {
     "name": "stderr",
     "output_type": "stream",
     "text": [
      "WARNING 2023-11-04 17:30:41,861 engines.py get_activity_coefficient 314 Ionic strength too high to estimate activity for species H[+1]. Specify parameters for Pitzer model. Returning unit activity coefficient\n",
      "WARNING 2023-11-04 17:30:41,874 engines.py get_activity_coefficient 314 Ionic strength too high to estimate activity for species OH[-1]. Specify parameters for Pitzer model. Returning unit activity coefficient\n",
      "WARNING 2023-11-04 17:30:41,912 engines.py get_activity_coefficient 314 Ionic strength too high to estimate activity for species H[+1]. Specify parameters for Pitzer model. Returning unit activity coefficient\n",
      "WARNING 2023-11-04 17:30:41,917 engines.py get_activity_coefficient 314 Ionic strength too high to estimate activity for species OH[-1]. Specify parameters for Pitzer model. Returning unit activity coefficient\n",
      "WARNING 2023-11-04 17:30:41,953 engines.py get_activity_coefficient 314 Ionic strength too high to estimate activity for species H[+1]. Specify parameters for Pitzer model. Returning unit activity coefficient\n",
      "WARNING 2023-11-04 17:30:41,958 engines.py get_activity_coefficient 314 Ionic strength too high to estimate activity for species OH[-1]. Specify parameters for Pitzer model. Returning unit activity coefficient\n",
      "WARNING 2023-11-04 17:30:41,995 engines.py get_activity_coefficient 314 Ionic strength too high to estimate activity for species H[+1]. Specify parameters for Pitzer model. Returning unit activity coefficient\n",
      "WARNING 2023-11-04 17:30:42,000 engines.py get_activity_coefficient 314 Ionic strength too high to estimate activity for species OH[-1]. Specify parameters for Pitzer model. Returning unit activity coefficient\n",
      "WARNING 2023-11-04 17:30:42,036 engines.py get_activity_coefficient 314 Ionic strength too high to estimate activity for species H[+1]. Specify parameters for Pitzer model. Returning unit activity coefficient\n",
      "WARNING 2023-11-04 17:30:42,042 engines.py get_activity_coefficient 314 Ionic strength too high to estimate activity for species OH[-1]. Specify parameters for Pitzer model. Returning unit activity coefficient\n",
      "WARNING 2023-11-04 17:30:42,078 engines.py get_activity_coefficient 314 Ionic strength too high to estimate activity for species H[+1]. Specify parameters for Pitzer model. Returning unit activity coefficient\n",
      "WARNING 2023-11-04 17:30:42,084 engines.py get_activity_coefficient 314 Ionic strength too high to estimate activity for species OH[-1]. Specify parameters for Pitzer model. Returning unit activity coefficient\n",
      "WARNING 2023-11-04 17:30:42,119 engines.py get_activity_coefficient 314 Ionic strength too high to estimate activity for species H[+1]. Specify parameters for Pitzer model. Returning unit activity coefficient\n",
      "WARNING 2023-11-04 17:30:42,124 engines.py get_activity_coefficient 314 Ionic strength too high to estimate activity for species OH[-1]. Specify parameters for Pitzer model. Returning unit activity coefficient\n",
      "WARNING 2023-11-04 17:30:42,160 engines.py get_activity_coefficient 314 Ionic strength too high to estimate activity for species H[+1]. Specify parameters for Pitzer model. Returning unit activity coefficient\n",
      "WARNING 2023-11-04 17:30:42,166 engines.py get_activity_coefficient 314 Ionic strength too high to estimate activity for species OH[-1]. Specify parameters for Pitzer model. Returning unit activity coefficient\n"
     ]
    },
    {
     "name": "stdout",
     "output_type": "stream",
     "text": [
      "41.6 ms ± 639 µs per loop (mean ± std. dev. of 7 runs, 1 loop each)\n"
     ]
    }
   ],
   "source": [
    "%%timeit\n",
    "s.conductivity"
   ]
  },
  {
   "cell_type": "code",
   "execution_count": 6,
   "id": "c3cd2d5b-f3a1-4909-aa18-caeebc60ae4e",
   "metadata": {},
   "outputs": [
    {
     "name": "stdout",
     "output_type": "stream",
     "text": [
      "527 µs ± 7.91 µs per loop (mean ± std. dev. of 7 runs, 1,000 loops each)\n"
     ]
    }
   ],
   "source": [
    "%%timeit\n",
    "s.ionic_strength"
   ]
  },
  {
   "cell_type": "code",
   "execution_count": 7,
   "id": "366a8d79-d08b-48cc-ae9f-6e3dd1e25b3a",
   "metadata": {},
   "outputs": [
    {
     "name": "stdout",
     "output_type": "stream",
     "text": [
      "549 µs ± 11 µs per loop (mean ± std. dev. of 7 runs, 1,000 loops each)\n"
     ]
    }
   ],
   "source": [
    "%%timeit\n",
    "s.get_transport_number(\"Na+\")"
   ]
  },
  {
   "cell_type": "code",
   "execution_count": 8,
   "id": "c0d007b0-ec00-4c06-bee4-40d04e6cebf2",
   "metadata": {},
   "outputs": [],
   "source": [
    "from pint import UnitRegistry\n",
    "\n",
    "ureg = UnitRegistry()"
   ]
  },
  {
   "cell_type": "code",
   "execution_count": 10,
   "id": "a6a7e789-5882-4756-a9b3-cf1b597be661",
   "metadata": {},
   "outputs": [
    {
     "name": "stdout",
     "output_type": "stream",
     "text": [
      "4.89 µs ± 45.8 ns per loop (mean ± std. dev. of 7 runs, 100,000 loops each)\n"
     ]
    }
   ],
   "source": [
    "%%timeit\n",
    "ureg.Quantity(1, \"meter\")"
   ]
  },
  {
   "cell_type": "code",
   "execution_count": 11,
   "id": "438f9cba-84a6-4639-a715-ccfae50aa621",
   "metadata": {},
   "outputs": [
    {
     "name": "stdout",
     "output_type": "stream",
     "text": [
      "57.2 µs ± 1.07 µs per loop (mean ± std. dev. of 7 runs, 10,000 loops each)\n"
     ]
    }
   ],
   "source": [
    "%%timeit\n",
    "1 * ureg.Quantity(\"meter\")"
   ]
  },
  {
   "cell_type": "code",
   "execution_count": 9,
   "id": "a82b8604-1985-4e4f-b473-6ba9d1d0e0ad",
   "metadata": {},
   "outputs": [
    {
     "name": "stdout",
     "output_type": "stream",
     "text": [
      "69.1 µs ± 389 ns per loop (mean ± std. dev. of 7 runs, 10,000 loops each)\n"
     ]
    }
   ],
   "source": [
    "%%timeit\n",
    "ureg.Quantity(\"1 meter\")"
   ]
  },
  {
   "cell_type": "code",
   "execution_count": null,
   "id": "e07940ec-c3a7-47d8-b49b-b904b07335e8",
   "metadata": {},
   "outputs": [],
   "source": []
  }
 ],
 "metadata": {
  "kernelspec": {
   "display_name": "Python 3 (ipykernel)",
   "language": "python",
   "name": "python3"
  },
  "language_info": {
   "codemirror_mode": {
    "name": "ipython",
    "version": 3
   },
   "file_extension": ".py",
   "mimetype": "text/x-python",
   "name": "python",
   "nbconvert_exporter": "python",
   "pygments_lexer": "ipython3",
   "version": "3.10.6"
  }
 },
 "nbformat": 4,
 "nbformat_minor": 5
}
