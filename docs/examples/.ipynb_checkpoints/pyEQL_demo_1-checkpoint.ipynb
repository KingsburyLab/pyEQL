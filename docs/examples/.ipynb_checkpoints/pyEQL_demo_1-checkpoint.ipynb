{
 "cells": [
  {
   "cell_type": "markdown",
   "metadata": {},
   "source": [
    "# pyEQL Demo"
   ]
  },
  {
   "cell_type": "markdown",
   "metadata": {},
   "source": [
    "### Inspiration: `numpy` arrays\n",
    "\n",
    "`numpy` defines an *interface* for creating and manipulating numerical arrays. Because this interface is well-defined and predictable, many other numerical codes can build on `numpy`."
   ]
  },
  {
   "cell_type": "code",
   "execution_count": 1,
   "metadata": {},
   "outputs": [
    {
     "data": {
      "text/plain": [
       "array([[ 1,  2,  3,  4,  5],\n",
       "       [ 6,  7,  8,  9, 10]])"
      ]
     },
     "execution_count": 1,
     "metadata": {},
     "output_type": "execute_result"
    }
   ],
   "source": [
    "import numpy as np\n",
    "\n",
    "array = np.array([[1, 2, 3, 4, 5], [6, 7, 8, 9, 10]])\n",
    "array"
   ]
  },
  {
   "cell_type": "code",
   "execution_count": 2,
   "metadata": {},
   "outputs": [
    {
     "data": {
      "text/plain": [
       "(2, 5)"
      ]
     },
     "execution_count": 2,
     "metadata": {},
     "output_type": "execute_result"
    }
   ],
   "source": [
    "array.shape"
   ]
  },
  {
   "cell_type": "code",
   "execution_count": 3,
   "metadata": {},
   "outputs": [
    {
     "data": {
      "text/plain": [
       "9"
      ]
     },
     "execution_count": 3,
     "metadata": {},
     "output_type": "execute_result"
    }
   ],
   "source": [
    "array.argmax()"
   ]
  },
  {
   "cell_type": "code",
   "execution_count": 4,
   "metadata": {},
   "outputs": [
    {
     "data": {
      "text/plain": [
       "10"
      ]
     },
     "execution_count": 4,
     "metadata": {},
     "output_type": "execute_result"
    }
   ],
   "source": [
    "array.size"
   ]
  },
  {
   "cell_type": "markdown",
   "metadata": {},
   "source": [
    "### pyEQL aims to create a well-defined interface for electrolyte solutions\n",
    "\n",
    "Available methods include:\n",
    "- `get_activity_coefficient`\n",
    "- `get_amount` (for concentrations in any units)\n",
    "- `get_pressure`\n",
    "- `get_temperature`\n",
    "- `get_volume`\n",
    "- `get_dielectric_constant`\n",
    "\n",
    "and many more"
   ]
  },
  {
   "cell_type": "markdown",
   "metadata": {},
   "source": [
    "<div class=\"warning\" style='background-color:#E9D8FD; color: #69337A; border-left: solid #805AD5 4px; border-radius: 4px; padding:0.7em;'>\n",
    "<span>\n",
    "<p style='margin-top:1em; text-align:center'>\n",
    "<b>NOTICE</b></p>\n",
    "<p style='margin-left:1em;'>\n",
    "The example below is using a *development* version of `pyEQL`. There are some subtle differences compared to the released version. Specifically:\n",
    "\n",
    "- The stable version does not support the `engine` keyword argument\n",
    "- The stable version requires solutes to be input as list of lists rather than a dictionary\n",
    "- The stable version uses `get_xxx` methods (e.g. `get_pressure()`) to access pressure, temperature, and volume instead of python properties.\n",
    "\n",
    "If you want to try this example, clone and install the `develop` branch from GitHub.\n",
    "</p>\n",
    "</div>"
   ]
  },
  {
   "cell_type": "code",
   "execution_count": 20,
   "metadata": {},
   "outputs": [],
   "source": [
    "from pyEQL import Solution\n",
    "\n",
    "s1 = Solution({\"Na+\": \"0.1 mol/L\", \"Cl-\": \"0.1 mol/L\"})"
   ]
  },
  {
   "cell_type": "code",
   "execution_count": 6,
   "metadata": {},
   "outputs": [
    {
     "data": {
      "text/html": [
       "1 atm"
      ],
      "text/latex": [
       "$1\\ \\mathrm{atm}$"
      ],
      "text/plain": [
       "1 <Unit('standard_atmosphere')>"
      ]
     },
     "execution_count": 6,
     "metadata": {},
     "output_type": "execute_result"
    }
   ],
   "source": [
    "s1.pressure"
   ]
  },
  {
   "cell_type": "code",
   "execution_count": 7,
   "metadata": {},
   "outputs": [
    {
     "data": {
      "text/html": [
       "298.15 K"
      ],
      "text/latex": [
       "$298.15\\ \\mathrm{K}$"
      ],
      "text/plain": [
       "298.15 <Unit('kelvin')>"
      ]
     },
     "execution_count": 7,
     "metadata": {},
     "output_type": "execute_result"
    }
   ],
   "source": [
    "s1.temperature"
   ]
  },
  {
   "cell_type": "code",
   "execution_count": 8,
   "metadata": {},
   "outputs": [
    {
     "data": {
      "text/html": [
       "1 l"
      ],
      "text/latex": [
       "$1\\ \\mathrm{l}$"
      ],
      "text/plain": [
       "1 <Unit('liter')>"
      ]
     },
     "execution_count": 8,
     "metadata": {},
     "output_type": "execute_result"
    }
   ],
   "source": [
    "s1.volume"
   ]
  },
  {
   "cell_type": "code",
   "execution_count": 9,
   "metadata": {},
   "outputs": [
    {
     "data": {
      "text/html": [
       "0.9322989671350115"
      ],
      "text/latex": [
       "$0.9322989671350115\\$"
      ],
      "text/plain": [
       "0.9322989671350115 <Unit('dimensionless')>"
      ]
     },
     "execution_count": 9,
     "metadata": {},
     "output_type": "execute_result"
    }
   ],
   "source": [
    "s1.get_osmotic_coefficient()"
   ]
  },
  {
   "cell_type": "code",
   "execution_count": 10,
   "metadata": {},
   "outputs": [
    {
     "data": {
      "text/html": [
       "0.0780726282259545"
      ],
      "text/latex": [
       "$0.0780726282259545\\$"
      ],
      "text/plain": [
       "0.0780726282259545 <Unit('dimensionless')>"
      ]
     },
     "execution_count": 10,
     "metadata": {},
     "output_type": "execute_result"
    }
   ],
   "source": [
    "s1.get_activity(\"Na+\")"
   ]
  },
  {
   "cell_type": "code",
   "execution_count": 11,
   "metadata": {},
   "outputs": [
    {
     "data": {
      "text/html": [
       "0.10046862144792715 mol/kg"
      ],
      "text/latex": [
       "$0.10046862144792715\\ \\frac{\\mathrm{mol}}{\\mathrm{kg}}$"
      ],
      "text/plain": [
       "0.10046862144792715 <Unit('mole / kilogram')>"
      ]
     },
     "execution_count": 11,
     "metadata": {},
     "output_type": "execute_result"
    }
   ],
   "source": [
    "s1.get_amount(\"Na+\", \"mol/kg\")"
   ]
  },
  {
   "cell_type": "code",
   "execution_count": 12,
   "metadata": {},
   "outputs": [
    {
     "data": {
      "text/html": [
       "0.1 mol/l"
      ],
      "text/latex": [
       "$0.1\\ \\frac{\\mathrm{mol}}{\\mathrm{l}}$"
      ],
      "text/plain": [
       "0.1 <Unit('mole / liter')>"
      ]
     },
     "execution_count": 12,
     "metadata": {},
     "output_type": "execute_result"
    }
   ],
   "source": [
    "s1.get_amount(\"Na+\", \"mol/L\")"
   ]
  },
  {
   "cell_type": "code",
   "execution_count": 13,
   "metadata": {},
   "outputs": [
    {
     "data": {
      "text/html": [
       "0.22962675104721783"
      ],
      "text/latex": [
       "$0.22962675104721783\\$"
      ],
      "text/plain": [
       "0.22962675104721783 <Unit('dimensionless')>"
      ]
     },
     "execution_count": 13,
     "metadata": {},
     "output_type": "execute_result"
    }
   ],
   "source": [
    "s1.get_amount(\"Na+\", \"%\")  # weight percent"
   ]
  },
  {
   "cell_type": "code",
   "execution_count": 14,
   "metadata": {},
   "outputs": [
    {
     "data": {
      "text/html": [
       "0.0018034419870333782"
      ],
      "text/latex": [
       "$0.0018034419870333782\\$"
      ],
      "text/plain": [
       "0.0018034419870333782 <Unit('dimensionless')>"
      ]
     },
     "execution_count": 14,
     "metadata": {},
     "output_type": "execute_result"
    }
   ],
   "source": [
    "s1.get_amount(\"Na+\", \"fraction\")  # mole fraction"
   ]
  },
  {
   "cell_type": "markdown",
   "metadata": {},
   "source": [
    "#### with pyEQL's modular \"engine\" system, switching activity models / equation of state models is easy\n",
    "\n",
    "Currently there are 2 options: `\"native\"` and `\"ideal\"`.\n",
    "\n",
    "The `\"native\"` model is built on the Pitzer model and has been the default in pyEQL for a long time. The `\"ideal\"` model represents ideal solution behavior.\n",
    "\n",
    "**Regardless of what model you choose, all the properties and method calls work exactly the same way**"
   ]
  },
  {
   "cell_type": "code",
   "execution_count": 18,
   "metadata": {},
   "outputs": [
    {
     "data": {
      "text/html": [
       "0.7784212946835681"
      ],
      "text/latex": [
       "$0.7784212946835681\\$"
      ],
      "text/plain": [
       "0.7784212946835681 <Unit('dimensionless')>"
      ]
     },
     "execution_count": 18,
     "metadata": {},
     "output_type": "execute_result"
    }
   ],
   "source": [
    "# native engine\n",
    "s1 = Solution({\"Na+\": \"0.1 mol/L\", \"Cl-\": \"0.1 mol/L\"}, engine=\"native\")\n",
    "s1.get_activity_coefficient(\"Na+\", scale=\"molar\")"
   ]
  },
  {
   "cell_type": "code",
   "execution_count": 19,
   "metadata": {},
   "outputs": [
    {
     "data": {
      "text/html": [
       "0.7784212946835681"
      ],
      "text/latex": [
       "$0.7784212946835681\\$"
      ],
      "text/plain": [
       "0.7784212946835681 <Unit('dimensionless')>"
      ]
     },
     "execution_count": 19,
     "metadata": {},
     "output_type": "execute_result"
    }
   ],
   "source": [
    "# ideal engine\n",
    "s1 = Solution([[\"Na+\", \"0.1 mol/L\"], [\"Cl-\", \"0.1 mol/L\"]], engine=\"native\")\n",
    "s1.get_activity_coefficient(\"Na+\", scale=\"molar\")"
   ]
  },
  {
   "cell_type": "code",
   "execution_count": 17,
   "metadata": {},
   "outputs": [
    {
     "data": {
      "text/html": [
       "1.0"
      ],
      "text/latex": [
       "$1.0\\$"
      ],
      "text/plain": [
       "1.0 <Unit('dimensionless')>"
      ]
     },
     "execution_count": 17,
     "metadata": {},
     "output_type": "execute_result"
    }
   ],
   "source": [
    "from pyEQL import Solution\n",
    "\n",
    "s1 = Solution({\"Na+\": \"0.1 mol/L\", \"Cl-\": \"0.1 mol/L\"}, engine=\"ideal\")\n",
    "s1.get_activity_coefficient(\"Na+\", scale=\"molar\")"
   ]
  },
  {
   "cell_type": "markdown",
   "metadata": {},
   "source": [
    "Future `engine` options could include\n",
    "\n",
    "- PHREEQC / phreeqpython\n",
    "- WaterTAP\n",
    "- pyeqion2\n",
    "- OLI Cloud API?"
   ]
  }
 ],
 "metadata": {
  "kernelspec": {
   "display_name": "Python 3.9.7 ('md')",
   "language": "python",
   "name": "python3"
  },
  "language_info": {
   "codemirror_mode": {
    "name": "ipython",
    "version": 3
   },
   "file_extension": ".py",
   "mimetype": "text/x-python",
   "name": "python",
   "nbconvert_exporter": "python",
   "pygments_lexer": "ipython3",
   "version": "3.9.7"
  },
  "orig_nbformat": 4,
  "vscode": {
   "interpreter": {
    "hash": "20cd9c7c08a0db6a75cb79507bbd68d727d0a89c194dd19a90b8f7137b80c950"
   }
  }
 },
 "nbformat": 4,
 "nbformat_minor": 2
}
