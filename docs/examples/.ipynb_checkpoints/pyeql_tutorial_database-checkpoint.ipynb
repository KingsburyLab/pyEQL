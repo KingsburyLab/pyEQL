{
 "cells": [
  {
   "attachments": {
    "b51ca3f4-e8bd-4b0a-a599-5f6724ad8fe5.png": {
     "image/png": "[encoded data removed]"
    }
   },
   "cell_type": "markdown",
   "id": "305d1216-9791-43dd-8d7f-ec90aa72a307",
   "metadata": {
    "tags": []
   },
   "source": [
    "# `pyEQL` Tutorial: Searching the Property Database\n",
    "\n",
    "![pyeql-logo.png](attachment:b51ca3f4-e8bd-4b0a-a599-5f6724ad8fe5.png)\n",
    "\n",
    "`pyEQL` is an open-source `python` library for solution chemistry calculations and ion properties developed by the [Kingsbury Lab](https://www.kingsburylab.org/) at Princeton University.\n",
    "\n",
    "[Documentation](https://pyeql.readthedocs.io/en/latest/) | [How to Install](https://pyeql.readthedocs.io/en/latest/installation.html) | [GitHub](https://github.com/rkingsbury/pyEQL) "
   ]
  },
  {
   "cell_type": "markdown",
   "id": "90c14b65-36f0-4bb2-a3bf-f8e725cc897e",
   "metadata": {
    "tags": []
   },
   "source": [
    "## Installation\n",
    "\n",
    "Uncomment and run the code cell below, if you do not already have `pyEQL`"
   ]
  },
  {
   "cell_type": "code",
   "execution_count": 1,
   "id": "abb1f51c-38fc-4543-8b59-057b8c591ba9",
   "metadata": {},
   "outputs": [],
   "source": [
    "# pip install pyEQL"
   ]
  },
  {
   "cell_type": "markdown",
   "id": "1b8efc81-17bb-46dc-8a22-63e71ae458b7",
   "metadata": {},
   "source": [
    "## First, import the property database\n",
    "\n",
    "`pyEQL`'s built-in property database contains physichochemical, transport, and model parameters for hundreds of solutes. This information is used behind the scenes when you interact with a `Solution` object, but it can also be accessed directly."
   ]
  },
  {
   "cell_type": "code",
   "execution_count": 2,
   "id": "55f1aea5-a5b8-49b8-a8e8-20856c4be6e7",
   "metadata": {
    "scrolled": true
   },
   "outputs": [],
   "source": [
    "from pyEQL import IonDB"
   ]
  },
  {
   "cell_type": "markdown",
   "id": "23b21981-7568-4e29-a93c-4017a32629b4",
   "metadata": {},
   "source": [
    "## How to Search the Database"
   ]
  },
  {
   "cell_type": "markdown",
   "id": "084e5aa5-041b-4135-a083-76a4d8e555d7",
   "metadata": {},
   "source": [
    "### Query an example document\n",
    "\n",
    "You can think of the database like `list` of `dict` that contain structure data. More specifically, the database is a list of [`Solute` objects](https://pyeql.readthedocs.io/en/latest/database.html#the-solute-class) that have been serialized to dictionaries. We refer to each of these `dict` as **\"documents\"** (consistent with MongoDB terminology) or \"records\"\n",
    "\n",
    "To see what one document looks like, use `query_one()`, which retrieves a single record from the database. The record is a `dict`."
   ]
  },
  {
   "cell_type": "code",
   "execution_count": 3,
   "id": "91459416-322a-49c5-a9ee-bf74c160a7e2",
   "metadata": {},
   "outputs": [
    {
     "data": {
      "text/plain": [
       "{'_id': ObjectId('654e5f131ed012c187817e6a'),\n",
       " 'formula': 'Ac[+3]',\n",
       " 'charge': 3,\n",
       " 'molecular_weight': '227.0 g/mol',\n",
       " 'elements': ['Ac'],\n",
       " 'chemsys': 'Ac',\n",
       " 'pmg_ion': {'Ac': 1,\n",
       "  'charge': 3,\n",
       "  '@module': 'pymatgen.core.ion',\n",
       "  '@class': 'Ion',\n",
       "  '@version': None},\n",
       " 'formula_html': 'Ac<sup>+3</sup>',\n",
       " 'formula_latex': 'Ac$^{+3}$',\n",
       " 'formula_hill': 'Ac',\n",
       " 'formula_pretty': 'Ac^+3',\n",
       " 'oxi_state_guesses': {'Ac': 3},\n",
       " 'n_atoms': 1,\n",
       " 'n_elements': 1,\n",
       " 'size': {'radius_ionic': {'value': '1.26 Å',\n",
       "   'reference': 'pymatgen',\n",
       "   'data_type': 'experimental'},\n",
       "  'radius_hydrated': None,\n",
       "  'radius_vdw': {'value': '2.47 Å',\n",
       "   'reference': 'pymatgen',\n",
       "   'data_type': 'experimental'},\n",
       "  'molar_volume': None,\n",
       "  'radius_ionic_marcus': {'value': '1.18 ± 0.02 Å',\n",
       "   'reference': 'Marcus2015',\n",
       "   'data_type': 'experimental'}},\n",
       " 'thermo': {'ΔG_hydration': {'value': '-3086.0 ± 10 kJ/mol',\n",
       "   'reference': '10.1021/acs.jpca.9b05140',\n",
       "   'data_type': 'experimental'},\n",
       "  'ΔG_formation': None},\n",
       " 'transport': {'diffusion_coefficient': None},\n",
       " 'model_parameters': {'activity_pitzer': {'Beta0': None,\n",
       "   'Beta1': None,\n",
       "   'Beta2': None,\n",
       "   'Cphi': None,\n",
       "   'Max_C': None},\n",
       "  'molar_volume_pitzer': {'Beta0': None,\n",
       "   'Beta1': None,\n",
       "   'Beta2': None,\n",
       "   'Cphi': None,\n",
       "   'V_o': None,\n",
       "   'Max_C': None},\n",
       "  'viscosity_jones_dole': {'B': None}}}"
      ]
     },
     "execution_count": 3,
     "metadata": {},
     "output_type": "execute_result"
    }
   ],
   "source": [
    "IonDB.query_one()"
   ]
  },
  {
   "cell_type": "markdown",
   "id": "db042f2d-2926-40bb-b84c-9fc5174618d0",
   "metadata": {},
   "source": [
    "### Query a specific document\n",
    "\n",
    "The `IonDB` is a [`maggma.Store`](https://materialsproject.github.io/maggma/getting_started/stores/) that can be queried using a MongoDB-like syntax. The basic syntax is\n",
    "\n",
    "```\n",
    "IonDB.query_one({field: value})\n",
    "```\n",
    "\n",
    "where `field` is a top-level key in the `Solute` `dict`, such as `formula`, `charge`, or `elements`. See [this page](https://riptutorial.com/mongodb/example/26813/pymongo-queries) and the `maggma` documentation (link WIP) for more detailed examples."
   ]
  },
  {
   "cell_type": "code",
   "execution_count": 4,
   "id": "5e0b4774-5274-4df1-8a91-7a9d43f675bd",
   "metadata": {},
   "outputs": [
    {
     "data": {
      "text/plain": [
       "{'_id': ObjectId('654e5f131ed012c187817f46'),\n",
       " 'formula': 'Na[+1]',\n",
       " 'charge': 1,\n",
       " 'molecular_weight': '22.98976928 g/mol',\n",
       " 'elements': ['Na'],\n",
       " 'chemsys': 'Na',\n",
       " 'pmg_ion': {'Na': 1,\n",
       "  'charge': 1,\n",
       "  '@module': 'pymatgen.core.ion',\n",
       "  '@class': 'Ion',\n",
       "  '@version': None},\n",
       " 'formula_html': 'Na<sup>+1</sup>',\n",
       " 'formula_latex': 'Na$^{+1}$',\n",
       " 'formula_hill': 'Na',\n",
       " 'formula_pretty': 'Na^+1',\n",
       " 'oxi_state_guesses': {'Na': 1},\n",
       " 'n_atoms': 1,\n",
       " 'n_elements': 1,\n",
       " 'size': {'radius_ionic': {'value': '1.16 Å',\n",
       "   'reference': 'pymatgen',\n",
       "   'data_type': 'experimental'},\n",
       "  'radius_hydrated': {'value': '3.58 Å',\n",
       "   'reference': 'Nightingale1959',\n",
       "   'data_type': 'experimental'},\n",
       "  'radius_vdw': {'value': '2.27 Å',\n",
       "   'reference': 'pymatgen',\n",
       "   'data_type': 'experimental'},\n",
       "  'molar_volume': {'value': '-5.0 cm**3/mol',\n",
       "   'reference': 'Calculation of the Partial Molal Volume of Organic Compounds and Polymers. Progress in Colloid & Polymer Science (94), 20-39.',\n",
       "   'data_type': 'experimental'},\n",
       "  'radius_ionic_marcus': {'value': '1.02 ± 0.02 Å',\n",
       "   'reference': 'Marcus2015',\n",
       "   'data_type': 'experimental'}},\n",
       " 'thermo': {'ΔG_hydration': {'value': '-427.0 ± 6 kJ/mol',\n",
       "   'reference': 'Marcus2015',\n",
       "   'data_type': 'experimental'},\n",
       "  'ΔG_formation': None},\n",
       " 'transport': {'diffusion_coefficient': {'value': '1.334e-05 cm**2/s',\n",
       "   'reference': 'CRC',\n",
       "   'data_type': 'experimental'}},\n",
       " 'model_parameters': {'activity_pitzer': {'Beta0': None,\n",
       "   'Beta1': None,\n",
       "   'Beta2': None,\n",
       "   'Cphi': None,\n",
       "   'Max_C': None},\n",
       "  'molar_volume_pitzer': {'Beta0': None,\n",
       "   'Beta1': None,\n",
       "   'Beta2': None,\n",
       "   'Cphi': None,\n",
       "   'V_o': None,\n",
       "   'Max_C': None},\n",
       "  'viscosity_jones_dole': {'B': {'value': '0.085 dm**3/mol',\n",
       "    'reference': 'https://doi.org/10.1021/cr00040a004',\n",
       "    'data_type': 'fitted'}},\n",
       "  'dielectric_zuber': {'value': '3.62 dimensionless',\n",
       "   'reference': 'https://doi.org/10.1016/j.fluid.2014.05.037',\n",
       "   'data_type': 'fitted'}}}"
      ]
     },
     "execution_count": 4,
     "metadata": {},
     "output_type": "execute_result"
    }
   ],
   "source": [
    "# a document with the formula \"Na[+1]\"\n",
    "IonDB.query_one({\"formula\": \"Na[+1]\"})"
   ]
  },
  {
   "cell_type": "markdown",
   "id": "381b0bae-436b-44b2-b651-bf8766ee053f",
   "metadata": {},
   "source": [
    "### Only return a subset of the document\n",
    "\n",
    "If you don't need to see the entire document, you can restrict the data returned by the query (in MongoDB, this is called \"projection\"). To use this feature, pass a second argument that is a `list` containing _only the fields that you want returned_. Note that there is a unique identified (field name `_id`) that is always returned."
   ]
  },
  {
   "cell_type": "code",
   "execution_count": 5,
   "id": "1063fa68-50e3-441c-89f9-32a52314d6a7",
   "metadata": {},
   "outputs": [
    {
     "data": {
      "text/plain": [
       "{'formula': 'Na[+1]',\n",
       " 'charge': 1,\n",
       " 'molecular_weight': '22.98976928 g/mol',\n",
       " '_id': ObjectId('654e5f131ed012c187817f46')}"
      ]
     },
     "execution_count": 5,
     "metadata": {},
     "output_type": "execute_result"
    }
   ],
   "source": [
    "# a document with the formula \"Na[+1]\", where we only want the formula, charge, and molecular_weight\n",
    "IonDB.query_one({\"formula\": \"Na[+1]\"}, [\"formula\", \"charge\", \"molecular_weight\"])"
   ]
  },
  {
   "cell_type": "code",
   "execution_count": 6,
   "id": "2829357c-45f7-487f-b89c-978bf28bf126",
   "metadata": {},
   "outputs": [
    {
     "data": {
      "text/plain": [
       "{'formula': 'Ag(CN)2[-1]',\n",
       " 'charge': -1,\n",
       " 'molecular_weight': '159.903 g/mol',\n",
       " '_id': ObjectId('654e5f131ed012c187817e6b')}"
      ]
     },
     "execution_count": 6,
     "metadata": {},
     "output_type": "execute_result"
    }
   ],
   "source": [
    "# a document with the charge -1, where we only want the formula, charge, and molecular_weight\n",
    "IonDB.query_one({\"charge\": -1}, [\"formula\", \"charge\", \"molecular_weight\"])"
   ]
  },
  {
   "cell_type": "markdown",
   "id": "d7ffc305-5e92-41fe-96fc-8507ee9be76a",
   "metadata": {},
   "source": [
    "**NOTE**: Be mindful of data types when querying. `charge` is an `int`. If we tried to query `charge` as if it were a `str`, we would get no results:"
   ]
  },
  {
   "cell_type": "code",
   "execution_count": 7,
   "id": "0e697fdb-5667-4280-9f09-f45c9a5c0ec2",
   "metadata": {},
   "outputs": [],
   "source": [
    "# a document with the charge -1, where we only want the formula, charge, and molecular_weight\n",
    "IonDB.query_one({\"charge\": \"-1\"}, [\"formula\", \"charge\", \"molecular_weight\"])"
   ]
  },
  {
   "cell_type": "markdown",
   "id": "ce6abcd9-5739-44a6-8993-a6ca1d6f0c47",
   "metadata": {},
   "source": [
    "### Query nested fields\n",
    "\n",
    "If you want to query a field that is not a top-level key (such as transport / diffusion_coefficient), you can place a `.` between the field names at each level, e.g."
   ]
  },
  {
   "cell_type": "code",
   "execution_count": 8,
   "id": "068c1ad7-bb98-4c38-af9f-0fa73b9b4551",
   "metadata": {},
   "outputs": [
    {
     "data": {
      "text/plain": [
       "{'formula': 'Na2CO3(aq)',\n",
       " 'size': {'radius_vdw': {'value': '2.27 Å'}},\n",
       " '_id': ObjectId('654e5f131ed012c187817f31')}"
      ]
     },
     "execution_count": 8,
     "metadata": {},
     "output_type": "execute_result"
    }
   ],
   "source": [
    "IonDB.query_one({\"size.radius_vdw.value\": \"2.27 Å\"}, [\"formula\", \"size.radius_vdw.value\"])"
   ]
  },
  {
   "cell_type": "markdown",
   "id": "ef08b109-26f3-40ba-9bc6-6345c1a60e4d",
   "metadata": {
    "tags": []
   },
   "source": [
    "**Note** that in the `Solute` documents, **most quantitative data are stored as `str` so that there is no ambiguity about their units**. In the example above, the value of the van der Waals radius is `\"2.27 Å\"` (a `str`, including a unit), NOT `2.27` (a `float`).\n",
    "\n",
    "You can easily extract the value by turning the `str` into a `Quantity` (see [Converting Units](https://pyeql.readthedocs.io/en/latest/units.html)), or by using `python` string operations to split the value and the units, e.g."
   ]
  },
  {
   "cell_type": "code",
   "execution_count": 9,
   "id": "d3be0fcb-7704-457f-8726-ec140ab5cf01",
   "metadata": {},
   "outputs": [
    {
     "name": "stdout",
     "output_type": "stream",
     "text": [
      "2.27\n"
     ]
    }
   ],
   "source": [
    "# string operations\n",
    "print(float(\"2.27 Å\".split(\" \")[0]))"
   ]
  },
  {
   "cell_type": "code",
   "execution_count": 10,
   "id": "fd89fe2b-0697-4f17-98d4-50634660c112",
   "metadata": {},
   "outputs": [
    {
     "name": "stdout",
     "output_type": "stream",
     "text": [
      "2.27\n"
     ]
    }
   ],
   "source": [
    "# pint Quantity\n",
    "from pyEQL import ureg\n",
    "\n",
    "print(ureg.Quantity(\"2.27 Å\").magnitude)"
   ]
  },
  {
   "cell_type": "markdown",
   "id": "261da6c7-1033-432c-b2d2-334661cec4f1",
   "metadata": {},
   "source": [
    "### Query multiple documents\n",
    "\n",
    "`query_one` only returns a single document (a single `dict`). You can instead use `query` with exactly the same syntax to return a [generator](https://realpython.com/introduction-to-python-generators/) of all documents that match your query."
   ]
  },
  {
   "cell_type": "code",
   "execution_count": 11,
   "id": "d7c3936a-ed30-4865-acb6-81e2a6d415c8",
   "metadata": {},
   "outputs": [
    {
     "data": {
      "text/plain": [
       "<generator object MongoStore.query at 0x7f0e84427ed0>"
      ]
     },
     "execution_count": 11,
     "metadata": {},
     "output_type": "execute_result"
    }
   ],
   "source": [
    "# all documents with a charge of +2, returning only the formulas\n",
    "IonDB.query({\"charge\": 2}, [\"formula\", \"molecular_weight\"])"
   ]
  },
  {
   "cell_type": "markdown",
   "id": "86ff455f-5e3c-40fa-83a2-eadb74595a56",
   "metadata": {},
   "source": [
    "A generator is not very useful unless we turn it into a `list`. You can do this with `list()` or with a [list comprehension](https://www.w3schools.com/python/python_lists_comprehension.asp)"
   ]
  },
  {
   "cell_type": "code",
   "execution_count": 12,
   "id": "82e73a80-9987-4866-bf24-55628a7eb2cc",
   "metadata": {},
   "outputs": [
    {
     "data": {
      "text/plain": [
       "[{'formula': 'Ag[+2]',\n",
       "  'molecular_weight': '107.8682 g/mol',\n",
       "  '_id': ObjectId('654e5f131ed012c187817e6e')},\n",
       " {'formula': 'Au[+2]',\n",
       "  'molecular_weight': '196.966569 g/mol',\n",
       "  '_id': ObjectId('654e5f131ed012c187817e76')},\n",
       " {'formula': 'Ba[+2]',\n",
       "  'molecular_weight': '137.327 g/mol',\n",
       "  '_id': ObjectId('654e5f131ed012c187817e83')},\n",
       " {'formula': 'Be[+2]',\n",
       "  'molecular_weight': '9.012182 g/mol',\n",
       "  '_id': ObjectId('654e5f131ed012c187817e85')},\n",
       " {'formula': 'Ca[+2]',\n",
       "  'molecular_weight': '40.078 g/mol',\n",
       "  '_id': ObjectId('654e5f131ed012c187817e96')},\n",
       " {'formula': 'Cd[+2]',\n",
       "  'molecular_weight': '112.411 g/mol',\n",
       "  '_id': ObjectId('654e5f131ed012c187817e9b')},\n",
       " {'formula': 'Co[+2]',\n",
       "  'molecular_weight': '58.933195 g/mol',\n",
       "  '_id': ObjectId('654e5f131ed012c187817ea9')},\n",
       " {'formula': 'Cr[+2]',\n",
       "  'molecular_weight': '51.9961 g/mol',\n",
       "  '_id': ObjectId('654e5f131ed012c187817eae')},\n",
       " {'formula': 'Cu[+2]',\n",
       "  'molecular_weight': '63.546 g/mol',\n",
       "  '_id': ObjectId('654e5f131ed012c187817ebe')},\n",
       " {'formula': 'Dy[+2]',\n",
       "  'molecular_weight': '162.5 g/mol',\n",
       "  '_id': ObjectId('654e5f131ed012c187817ec0')},\n",
       " {'formula': 'Eu[+2]',\n",
       "  'molecular_weight': '151.964 g/mol',\n",
       "  '_id': ObjectId('654e5f131ed012c187817ec5')},\n",
       " {'formula': 'Fe[+2]',\n",
       "  'molecular_weight': '55.845 g/mol',\n",
       "  '_id': ObjectId('654e5f131ed012c187817ecc')},\n",
       " {'formula': 'Ge[+2]',\n",
       "  'molecular_weight': '72.64 g/mol',\n",
       "  '_id': ObjectId('654e5f131ed012c187817ed1')},\n",
       " {'formula': 'Hg[+2]',\n",
       "  'molecular_weight': '200.59 g/mol',\n",
       "  '_id': ObjectId('654e5f131ed012c187817ef1')},\n",
       " {'formula': 'In[+2]',\n",
       "  'molecular_weight': '114.818 g/mol',\n",
       "  '_id': ObjectId('654e5f131ed012c187817ef7')},\n",
       " {'formula': 'Mg[+2]',\n",
       "  'molecular_weight': '24.305 g/mol',\n",
       "  '_id': ObjectId('654e5f131ed012c187817f26')},\n",
       " {'formula': 'Mn[+2]',\n",
       "  'molecular_weight': '54.938045 g/mol',\n",
       "  '_id': ObjectId('654e5f131ed012c187817f2a')},\n",
       " {'formula': 'Nd[+2]',\n",
       "  'molecular_weight': '144.242 g/mol',\n",
       "  '_id': ObjectId('654e5f131ed012c187817f4a')},\n",
       " {'formula': 'Ni[+2]',\n",
       "  'molecular_weight': '58.6934 g/mol',\n",
       "  '_id': ObjectId('654e5f141ed012c187817f4f')},\n",
       " {'formula': 'Pb[+2]',\n",
       "  'molecular_weight': '207.2 g/mol',\n",
       "  '_id': ObjectId('654e5f141ed012c187817f62')},\n",
       " {'formula': 'Pd[+2]',\n",
       "  'molecular_weight': '106.42 g/mol',\n",
       "  '_id': ObjectId('654e5f141ed012c187817f63')},\n",
       " {'formula': 'Po[+2]',\n",
       "  'molecular_weight': '210.0 g/mol',\n",
       "  '_id': ObjectId('654e5f141ed012c187817f65')},\n",
       " {'formula': 'Pr[+2]',\n",
       "  'molecular_weight': '140.90765 g/mol',\n",
       "  '_id': ObjectId('654e5f141ed012c187817f67')},\n",
       " {'formula': 'Pt[+2]',\n",
       "  'molecular_weight': '195.084 g/mol',\n",
       "  '_id': ObjectId('654e5f141ed012c187817f69')},\n",
       " {'formula': 'Ra[+2]',\n",
       "  'molecular_weight': '226.0 g/mol',\n",
       "  '_id': ObjectId('654e5f141ed012c187817f6b')},\n",
       " {'formula': 'Ru[+2]',\n",
       "  'molecular_weight': '101.07 g/mol',\n",
       "  '_id': ObjectId('654e5f141ed012c187817f7b')},\n",
       " {'formula': 'Sc[+2]',\n",
       "  'molecular_weight': '44.955912 g/mol',\n",
       "  '_id': ObjectId('654e5f141ed012c187817f87')},\n",
       " {'formula': 'Sm[+2]',\n",
       "  'molecular_weight': '150.36 g/mol',\n",
       "  '_id': ObjectId('654e5f141ed012c187817f8e')},\n",
       " {'formula': 'Sn[+2]',\n",
       "  'molecular_weight': '118.71 g/mol',\n",
       "  '_id': ObjectId('654e5f141ed012c187817f90')},\n",
       " {'formula': 'Sr[+2]',\n",
       "  'molecular_weight': '87.62 g/mol',\n",
       "  '_id': ObjectId('654e5f141ed012c187817f97')},\n",
       " {'formula': 'Tc[+2]',\n",
       "  'molecular_weight': '98.0 g/mol',\n",
       "  '_id': ObjectId('654e5f141ed012c187817f9b')},\n",
       " {'formula': 'Ti[+2]',\n",
       "  'molecular_weight': '47.867 g/mol',\n",
       "  '_id': ObjectId('654e5f141ed012c187817f9f')},\n",
       " {'formula': 'Tm[+2]',\n",
       "  'molecular_weight': '168.93421 g/mol',\n",
       "  '_id': ObjectId('654e5f141ed012c187817fa7')},\n",
       " {'formula': 'UO2[+2]',\n",
       "  'molecular_weight': '270.02771 g/mol',\n",
       "  '_id': ObjectId('654e5f141ed012c187817fad')},\n",
       " {'formula': 'V[+2]',\n",
       "  'molecular_weight': '50.9415 g/mol',\n",
       "  '_id': ObjectId('654e5f141ed012c187817fb2')},\n",
       " {'formula': 'Yb[+2]',\n",
       "  'molecular_weight': '173.04 g/mol',\n",
       "  '_id': ObjectId('654e5f141ed012c187817fba')},\n",
       " {'formula': 'Zn[+2]',\n",
       "  'molecular_weight': '65.409 g/mol',\n",
       "  '_id': ObjectId('654e5f141ed012c187817fc2')}]"
      ]
     },
     "execution_count": 12,
     "metadata": {},
     "output_type": "execute_result"
    }
   ],
   "source": [
    "# using list()\n",
    "list(IonDB.query({\"charge\": 2}, [\"formula\", \"molecular_weight\"]))"
   ]
  },
  {
   "cell_type": "code",
   "execution_count": 13,
   "id": "c6dd37ed-9d07-47b3-be85-aecaade0b880",
   "metadata": {},
   "outputs": [
    {
     "data": {
      "text/plain": [
       "[{'formula': 'Ag[+2]',\n",
       "  'molecular_weight': '107.8682 g/mol',\n",
       "  '_id': ObjectId('654e5f131ed012c187817e6e')},\n",
       " {'formula': 'Au[+2]',\n",
       "  'molecular_weight': '196.966569 g/mol',\n",
       "  '_id': ObjectId('654e5f131ed012c187817e76')},\n",
       " {'formula': 'Ba[+2]',\n",
       "  'molecular_weight': '137.327 g/mol',\n",
       "  '_id': ObjectId('654e5f131ed012c187817e83')},\n",
       " {'formula': 'Be[+2]',\n",
       "  'molecular_weight': '9.012182 g/mol',\n",
       "  '_id': ObjectId('654e5f131ed012c187817e85')},\n",
       " {'formula': 'Ca[+2]',\n",
       "  'molecular_weight': '40.078 g/mol',\n",
       "  '_id': ObjectId('654e5f131ed012c187817e96')},\n",
       " {'formula': 'Cd[+2]',\n",
       "  'molecular_weight': '112.411 g/mol',\n",
       "  '_id': ObjectId('654e5f131ed012c187817e9b')},\n",
       " {'formula': 'Co[+2]',\n",
       "  'molecular_weight': '58.933195 g/mol',\n",
       "  '_id': ObjectId('654e5f131ed012c187817ea9')},\n",
       " {'formula': 'Cr[+2]',\n",
       "  'molecular_weight': '51.9961 g/mol',\n",
       "  '_id': ObjectId('654e5f131ed012c187817eae')},\n",
       " {'formula': 'Cu[+2]',\n",
       "  'molecular_weight': '63.546 g/mol',\n",
       "  '_id': ObjectId('654e5f131ed012c187817ebe')},\n",
       " {'formula': 'Dy[+2]',\n",
       "  'molecular_weight': '162.5 g/mol',\n",
       "  '_id': ObjectId('654e5f131ed012c187817ec0')},\n",
       " {'formula': 'Eu[+2]',\n",
       "  'molecular_weight': '151.964 g/mol',\n",
       "  '_id': ObjectId('654e5f131ed012c187817ec5')},\n",
       " {'formula': 'Fe[+2]',\n",
       "  'molecular_weight': '55.845 g/mol',\n",
       "  '_id': ObjectId('654e5f131ed012c187817ecc')},\n",
       " {'formula': 'Ge[+2]',\n",
       "  'molecular_weight': '72.64 g/mol',\n",
       "  '_id': ObjectId('654e5f131ed012c187817ed1')},\n",
       " {'formula': 'Hg[+2]',\n",
       "  'molecular_weight': '200.59 g/mol',\n",
       "  '_id': ObjectId('654e5f131ed012c187817ef1')},\n",
       " {'formula': 'In[+2]',\n",
       "  'molecular_weight': '114.818 g/mol',\n",
       "  '_id': ObjectId('654e5f131ed012c187817ef7')},\n",
       " {'formula': 'Mg[+2]',\n",
       "  'molecular_weight': '24.305 g/mol',\n",
       "  '_id': ObjectId('654e5f131ed012c187817f26')},\n",
       " {'formula': 'Mn[+2]',\n",
       "  'molecular_weight': '54.938045 g/mol',\n",
       "  '_id': ObjectId('654e5f131ed012c187817f2a')},\n",
       " {'formula': 'Nd[+2]',\n",
       "  'molecular_weight': '144.242 g/mol',\n",
       "  '_id': ObjectId('654e5f131ed012c187817f4a')},\n",
       " {'formula': 'Ni[+2]',\n",
       "  'molecular_weight': '58.6934 g/mol',\n",
       "  '_id': ObjectId('654e5f141ed012c187817f4f')},\n",
       " {'formula': 'Pb[+2]',\n",
       "  'molecular_weight': '207.2 g/mol',\n",
       "  '_id': ObjectId('654e5f141ed012c187817f62')},\n",
       " {'formula': 'Pd[+2]',\n",
       "  'molecular_weight': '106.42 g/mol',\n",
       "  '_id': ObjectId('654e5f141ed012c187817f63')},\n",
       " {'formula': 'Po[+2]',\n",
       "  'molecular_weight': '210.0 g/mol',\n",
       "  '_id': ObjectId('654e5f141ed012c187817f65')},\n",
       " {'formula': 'Pr[+2]',\n",
       "  'molecular_weight': '140.90765 g/mol',\n",
       "  '_id': ObjectId('654e5f141ed012c187817f67')},\n",
       " {'formula': 'Pt[+2]',\n",
       "  'molecular_weight': '195.084 g/mol',\n",
       "  '_id': ObjectId('654e5f141ed012c187817f69')},\n",
       " {'formula': 'Ra[+2]',\n",
       "  'molecular_weight': '226.0 g/mol',\n",
       "  '_id': ObjectId('654e5f141ed012c187817f6b')},\n",
       " {'formula': 'Ru[+2]',\n",
       "  'molecular_weight': '101.07 g/mol',\n",
       "  '_id': ObjectId('654e5f141ed012c187817f7b')},\n",
       " {'formula': 'Sc[+2]',\n",
       "  'molecular_weight': '44.955912 g/mol',\n",
       "  '_id': ObjectId('654e5f141ed012c187817f87')},\n",
       " {'formula': 'Sm[+2]',\n",
       "  'molecular_weight': '150.36 g/mol',\n",
       "  '_id': ObjectId('654e5f141ed012c187817f8e')},\n",
       " {'formula': 'Sn[+2]',\n",
       "  'molecular_weight': '118.71 g/mol',\n",
       "  '_id': ObjectId('654e5f141ed012c187817f90')},\n",
       " {'formula': 'Sr[+2]',\n",
       "  'molecular_weight': '87.62 g/mol',\n",
       "  '_id': ObjectId('654e5f141ed012c187817f97')},\n",
       " {'formula': 'Tc[+2]',\n",
       "  'molecular_weight': '98.0 g/mol',\n",
       "  '_id': ObjectId('654e5f141ed012c187817f9b')},\n",
       " {'formula': 'Ti[+2]',\n",
       "  'molecular_weight': '47.867 g/mol',\n",
       "  '_id': ObjectId('654e5f141ed012c187817f9f')},\n",
       " {'formula': 'Tm[+2]',\n",
       "  'molecular_weight': '168.93421 g/mol',\n",
       "  '_id': ObjectId('654e5f141ed012c187817fa7')},\n",
       " {'formula': 'UO2[+2]',\n",
       "  'molecular_weight': '270.02771 g/mol',\n",
       "  '_id': ObjectId('654e5f141ed012c187817fad')},\n",
       " {'formula': 'V[+2]',\n",
       "  'molecular_weight': '50.9415 g/mol',\n",
       "  '_id': ObjectId('654e5f141ed012c187817fb2')},\n",
       " {'formula': 'Yb[+2]',\n",
       "  'molecular_weight': '173.04 g/mol',\n",
       "  '_id': ObjectId('654e5f141ed012c187817fba')},\n",
       " {'formula': 'Zn[+2]',\n",
       "  'molecular_weight': '65.409 g/mol',\n",
       "  '_id': ObjectId('654e5f141ed012c187817fc2')}]"
      ]
     },
     "execution_count": 13,
     "metadata": {},
     "output_type": "execute_result"
    }
   ],
   "source": [
    "# using a comprehension\n",
    "[doc for doc in IonDB.query({\"charge\": 2}, [\"formula\", \"molecular_weight\"])]"
   ]
  },
  {
   "cell_type": "markdown",
   "id": "94600f07-a63e-4004-8107-a1a91103d494",
   "metadata": {},
   "source": [
    "## Counting Documents\n",
    "\n",
    "You can use `count()` to see how many documents the database contains"
   ]
  },
  {
   "cell_type": "code",
   "execution_count": 14,
   "id": "bf68990f-bade-425f-8fa5-d6f67c9a15ea",
   "metadata": {},
   "outputs": [
    {
     "data": {
      "text/plain": [
       "346"
      ]
     },
     "execution_count": 14,
     "metadata": {},
     "output_type": "execute_result"
    }
   ],
   "source": [
    "IonDB.count()"
   ]
  },
  {
   "cell_type": "markdown",
   "id": "7272f19b-5871-44f0-a4b6-da817115ceab",
   "metadata": {},
   "source": [
    "Count works with queries, too."
   ]
  },
  {
   "cell_type": "code",
   "execution_count": 15,
   "id": "43a45291-e0bb-4d9d-8b8b-b20f3e49773a",
   "metadata": {},
   "outputs": [
    {
     "data": {
      "text/plain": [
       "7"
      ]
     },
     "execution_count": 15,
     "metadata": {},
     "output_type": "execute_result"
    }
   ],
   "source": [
    "# number of documents with a charge of -3\n",
    "IonDB.count({\"charge\": -3})"
   ]
  },
  {
   "cell_type": "markdown",
   "id": "b1dd7b65-f54d-4998-aad1-ad73d6c7fe7d",
   "metadata": {},
   "source": [
    "## More Advanced Query Syntax"
   ]
  },
  {
   "cell_type": "markdown",
   "id": "22a1209c-35ed-4096-8e53-d016b4187a41",
   "metadata": {},
   "source": [
    "### Match multiple items with `$in`\n",
    "\n",
    "If you want to query documents that match _any one of a set of values_, use `$in` with a `list` of possible values. Note that the `$in` operator and your `list` constitute their own dictionary, e.g. `{\"$in\":<list>}`. This entire dictionary is the \"value\" of your query for the associated field. For example:"
   ]
  },
  {
   "cell_type": "code",
   "execution_count": 16,
   "id": "8bed2683-ca20-4b8e-9bde-c4c86fb0e511",
   "metadata": {},
   "outputs": [
    {
     "data": {
      "text/plain": [
       "5"
      ]
     },
     "execution_count": 16,
     "metadata": {},
     "output_type": "execute_result"
    }
   ],
   "source": [
    "# all alkali cations\n",
    "IonDB.count({\"formula\": {\"$in\": [\"Li[+1]\", \"Na[+1]\", \"K[+1]\", \"Rb[+1]\", \"Cs[+1]\"]}})"
   ]
  },
  {
   "cell_type": "markdown",
   "id": "ff2b2305-1d45-45cd-aa53-31eccffb8afa",
   "metadata": {},
   "source": [
    "### Greater than or less than - `$gt` / `$gte` / `$lt` / `$lte`\n",
    "\n",
    "In a similar manner, you can query fields whose values are greater than / less than or equal to some value"
   ]
  },
  {
   "cell_type": "code",
   "execution_count": 17,
   "id": "7f7e52c5-6963-4848-99cb-32018adfb12c",
   "metadata": {},
   "outputs": [
    {
     "data": {
      "text/plain": [
       "76"
      ]
     },
     "execution_count": 17,
     "metadata": {},
     "output_type": "execute_result"
    }
   ],
   "source": [
    "# all solutes with a charge less than 0\n",
    "IonDB.count({\"charge\": {\"$lt\": 0}})"
   ]
  },
  {
   "cell_type": "code",
   "execution_count": 18,
   "id": "747d56b6-859f-4a15-9fa5-ef63229a7436",
   "metadata": {},
   "outputs": [
    {
     "data": {
      "text/plain": [
       "108"
      ]
     },
     "execution_count": 18,
     "metadata": {},
     "output_type": "execute_result"
    }
   ],
   "source": [
    "# all solutes with a charge greater than or equal to 1\n",
    "IonDB.count({\"charge\": {\"$gte\": 1}})"
   ]
  },
  {
   "cell_type": "markdown",
   "id": "4ad07153-ead4-4a95-a83a-7055089cbd84",
   "metadata": {},
   "source": [
    "## Unique Values\n",
    "\n",
    "It's often useful to understand how many unique values of a field there are. To do so, use `distinct()` with any field name"
   ]
  },
  {
   "cell_type": "code",
   "execution_count": 19,
   "id": "7587a871-ed15-4ab4-b2a7-77018e67a1c1",
   "metadata": {},
   "outputs": [
    {
     "data": {
      "text/plain": [
       "['U(ClO5)2(aq)',\n",
       " 'LiClO4(aq)',\n",
       " 'Sb(OH)6[-1]',\n",
       " 'Ba[+2]',\n",
       " 'RbNO3(aq)',\n",
       " 'KBrO3(aq)',\n",
       " 'H3O[+1]',\n",
       " 'CsNO2(aq)',\n",
       " 'Re[+1]',\n",
       " 'KHC2O.1H2O(aq)',\n",
       " 'Ni[+3]',\n",
       " 'H8S(NO2)2(aq)',\n",
       " 'Sm[+2]',\n",
       " 'B(OH)4[-1]',\n",
       " 'CoI2(aq)',\n",
       " 'ZnBr2(aq)',\n",
       " 'Sn[+2]',\n",
       " 'USO6(aq)',\n",
       " 'Ir[+3]',\n",
       " 'Ag(CN)2[-1]',\n",
       " 'KNO3(aq)',\n",
       " 'Ga[+3]',\n",
       " 'Zn(NO3)2(aq)',\n",
       " 'NaHC3.2H2O(aq)',\n",
       " 'Ni(NO3)2(aq)',\n",
       " 'S[-2]',\n",
       " 'HS[-1]',\n",
       " 'Eu[+2]',\n",
       " 'ZnSO4(aq)',\n",
       " 'BeSO4(aq)',\n",
       " 'MnO4[-1]',\n",
       " 'K2CO3(aq)',\n",
       " 'Pa[+3]',\n",
       " 'SrI2(aq)',\n",
       " 'FeCl2(aq)',\n",
       " 'Eu(NO3)3(aq)',\n",
       " 'NaClO4(aq)',\n",
       " 'Zn[+2]',\n",
       " 'SeO4[-1]',\n",
       " 'NaCrO4(aq)',\n",
       " 'CsOH(aq)',\n",
       " 'Na3PO4(aq)',\n",
       " 'KCSN(aq)',\n",
       " 'HSO4[-1]',\n",
       " 'Mn[+3]',\n",
       " 'H4NClO4(aq)',\n",
       " 'NiSO4(aq)',\n",
       " 'IO4[-1]',\n",
       " 'Sr(ClO4)2(aq)',\n",
       " 'SeO4[-2]',\n",
       " 'Ag[+1]',\n",
       " 'LiI(aq)',\n",
       " 'SiF6[-2]',\n",
       " 'HF2[-1]',\n",
       " 'CoBr2(aq)',\n",
       " 'Pr[+3]',\n",
       " 'BaBr2(aq)',\n",
       " 'ClO2[-1]',\n",
       " 'MgBr2(aq)',\n",
       " 'Ho[+3]',\n",
       " 'Be[+2]',\n",
       " 'H2O(aq)',\n",
       " 'Po[+2]',\n",
       " 'P2O7[-4]',\n",
       " 'RbCl(aq)',\n",
       " 'K[+1]',\n",
       " 'ClO4[-1]',\n",
       " 'Mg(ClO4)2(aq)',\n",
       " 'NdCl3(aq)',\n",
       " 'Au[+1]',\n",
       " 'Rb2SO4(aq)',\n",
       " 'Na2PHO4(aq)',\n",
       " 'Th[+4]',\n",
       " 'Fe[+3]',\n",
       " 'Ra[+2]',\n",
       " 'Tl(NO3)3(aq)',\n",
       " 'Rb[+1]',\n",
       " 'KF(aq)',\n",
       " 'Gd[+3]',\n",
       " 'NiCl2(aq)',\n",
       " 'Rh[+3]',\n",
       " 'Ag[+3]',\n",
       " 'Cd(ClO4)2(aq)',\n",
       " 'FeCl3(aq)',\n",
       " 'NO3[-1]',\n",
       " 'MoO4[-2]',\n",
       " 'Tl[+3]',\n",
       " 'CuSO4(aq)',\n",
       " 'Tm[+3]',\n",
       " 'OH[-1]',\n",
       " 'Zn(ClO4)2(aq)',\n",
       " 'Th(NO3)4(aq)',\n",
       " 'HNO3(aq)',\n",
       " 'AgNO3(aq)',\n",
       " 'Cr(NO3)3(aq)',\n",
       " 'Tl(NO2)3(aq)',\n",
       " 'CaI2(aq)',\n",
       " 'Pt[+2]',\n",
       " 'U(NO4)2(aq)',\n",
       " 'LiNO2(aq)',\n",
       " 'Na2CO3(aq)',\n",
       " 'Np[+4]',\n",
       " 'LiNO3(aq)',\n",
       " 'VO2[+1]',\n",
       " 'KCrO4(aq)',\n",
       " 'PO4[-3]',\n",
       " 'Ca(NO3)2(aq)',\n",
       " 'Li[+1]',\n",
       " 'SrCl2(aq)',\n",
       " 'KPO3.1H2O(aq)',\n",
       " 'CH3COO[-1]',\n",
       " 'PrCl3(aq)',\n",
       " 'In[+3]',\n",
       " 'ZnI2(aq)',\n",
       " 'SmCl3(aq)',\n",
       " 'KI(aq)',\n",
       " 'K3Fe(CN)6(aq)',\n",
       " 'CdSO4(aq)',\n",
       " 'GdCl3(aq)',\n",
       " 'Os[+3]',\n",
       " 'LiHC2O.1H2O(aq)',\n",
       " 'Sr(NO3)2(aq)',\n",
       " 'H2SO4(aq)',\n",
       " 'Hg[+2]',\n",
       " 'NaNO2(aq)',\n",
       " 'Cd[+2]',\n",
       " 'H5N2[+1]',\n",
       " 'Mg(NO3)2(aq)',\n",
       " 'KClO3(aq)',\n",
       " 'P(OH)2[-1]',\n",
       " 'Sn[+4]',\n",
       " 'Tm[+2]',\n",
       " 'U(ClO)2(aq)',\n",
       " 'HCO2[-1]',\n",
       " 'BO2[-1]',\n",
       " 'KBr(aq)',\n",
       " 'K2SO4(aq)',\n",
       " 'SeO3[-1]',\n",
       " 'Ta[+3]',\n",
       " 'YNO3(aq)',\n",
       " 'Cu[+1]',\n",
       " 'Er[+3]',\n",
       " 'Al[+3]',\n",
       " 'HSO3[-1]',\n",
       " 'Tl[+1]',\n",
       " 'BrO3[-1]',\n",
       " 'Li2SO4(aq)',\n",
       " 'Co[+2]',\n",
       " 'ZnCl2(aq)',\n",
       " 'HO2[-1]',\n",
       " 'I[-1]',\n",
       " 'Au[+3]',\n",
       " 'CSN[-1]',\n",
       " 'NaHCO2(aq)',\n",
       " 'Ca[+2]',\n",
       " 'P(HO2)2[-1]',\n",
       " 'Ba(NO3)2(aq)',\n",
       " 'Dy[+2]',\n",
       " 'Cs2SO4(aq)',\n",
       " 'F[-1]',\n",
       " 'Pb[+2]',\n",
       " 'EuCl3(aq)',\n",
       " 'Ca(ClO4)2(aq)',\n",
       " 'Al2(SO4)3(aq)',\n",
       " 'PH9(NO2)2(aq)',\n",
       " 'RbBr(aq)',\n",
       " 'CuCl2(aq)',\n",
       " 'Co(H3N)6[-3]',\n",
       " 'Pb(NO3)2(aq)',\n",
       " 'CSeN[-1]',\n",
       " 'Ce[+3]',\n",
       " 'RbOH(aq)',\n",
       " 'P3O10[-5]',\n",
       " 'NaOH(aq)',\n",
       " 'Sm[+3]',\n",
       " 'Yb[+3]',\n",
       " 'C2N3[-1]',\n",
       " 'BaC4O.3H2O(aq)',\n",
       " 'Fe(CN)6[-3]',\n",
       " 'RbNO2(aq)',\n",
       " 'Re[+3]',\n",
       " 'LaCl3(aq)',\n",
       " 'CrO4[-2]',\n",
       " 'H[+1]',\n",
       " 'K3PO4(aq)',\n",
       " 'Ce[+4]',\n",
       " 'Cu[+2]',\n",
       " 'H2CO3(aq)',\n",
       " 'BaCl2(aq)',\n",
       " 'NaBrO3(aq)',\n",
       " 'Zr[+4]',\n",
       " 'CsI(aq)',\n",
       " 'CoCl2(aq)',\n",
       " 'Ac[+3]',\n",
       " 'Ti[+2]',\n",
       " 'Nd(NO3)3(aq)',\n",
       " 'NaBr(aq)',\n",
       " 'La(NO3)3(aq)',\n",
       " 'MgC4O.3H2O(aq)',\n",
       " 'PO3[-1]',\n",
       " 'CrCl3(aq)',\n",
       " 'U[+3]',\n",
       " 'HCl(aq)',\n",
       " 'Tc[+2]',\n",
       " 'Au(CN)4[-1]',\n",
       " 'HOsO5[-1]',\n",
       " 'WO4[-1]',\n",
       " 'PHO4[-2]',\n",
       " 'ClO3[-1]',\n",
       " 'K4Fe(CN)6(aq)',\n",
       " 'Br[-0.33333333]',\n",
       " 'Sr[+2]',\n",
       " 'Cr[+3]',\n",
       " 'UO2[+2]',\n",
       " 'Ni[+2]',\n",
       " 'Tl(ClO4)3(aq)',\n",
       " 'Pu[+4]',\n",
       " 'NaHC2O.1H2O(aq)',\n",
       " 'MgI2(aq)',\n",
       " 'TlH(C3O)2.4H2O(aq)',\n",
       " 'Co(CN)6[-3]',\n",
       " 'K2PHO4(aq)',\n",
       " 'Mn[+2]',\n",
       " 'NaNO3(aq)',\n",
       " 'ScCl3(aq)',\n",
       " 'CeCl3(aq)',\n",
       " 'MnSO4(aq)',\n",
       " 'Ru[+3]',\n",
       " 'CsNO3(aq)',\n",
       " 'HCO3[-1]',\n",
       " 'H4NCl(aq)',\n",
       " 'Ag[+2]',\n",
       " 'Nb[+3]',\n",
       " 'CNO[-1]',\n",
       " 'H4IN(aq)',\n",
       " 'In[+1]',\n",
       " 'Ge[+2]',\n",
       " 'HI(aq)',\n",
       " 'ReO4[-1]',\n",
       " 'MgCl2(aq)',\n",
       " 'CsF(aq)',\n",
       " 'N[-0.33333333]',\n",
       " 'HClO4(aq)',\n",
       " 'CsCl(aq)',\n",
       " 'KHCO3(aq)',\n",
       " 'La[+3]',\n",
       " 'Ba(ClO4)2(aq)',\n",
       " 'Bi[+3]',\n",
       " 'CaBr2(aq)',\n",
       " 'Yb[+2]',\n",
       " 'CaCl2(aq)',\n",
       " 'UO2[+1]',\n",
       " 'Mo[+3]',\n",
       " 'KClO4(aq)',\n",
       " 'KOH(aq)',\n",
       " 'LiBr(aq)',\n",
       " 'SO3[-1]',\n",
       " 'NaPO3.1H2O(aq)',\n",
       " 'AsO4[-3]',\n",
       " 'Br[-1]',\n",
       " 'Dy[+3]',\n",
       " 'IO3[-1]',\n",
       " 'Sc[+3]',\n",
       " 'H2SNO3[-1]',\n",
       " 'Np[+3]',\n",
       " 'Fe(CN)6[-4]',\n",
       " 'RbHC2O.1H2O(aq)',\n",
       " 'Nd[+2]',\n",
       " 'Pr[+2]',\n",
       " 'HBr(aq)',\n",
       " 'MgSO4(aq)',\n",
       " 'PO3F[-2]',\n",
       " 'RbI(aq)',\n",
       " 'Cu[+3]',\n",
       " 'Pm[+3]',\n",
       " 'H4BrN(aq)',\n",
       " 'MnCl2(aq)',\n",
       " 'CsHC2O.1H2O(aq)',\n",
       " 'Y[+3]',\n",
       " 'Hf[+4]',\n",
       " 'Na[+1]',\n",
       " 'H5C6O7[-3]',\n",
       " 'Co(NO3)2(aq)',\n",
       " 'NaCSN(aq)',\n",
       " 'NaHCO3(aq)',\n",
       " 'CsBr(aq)',\n",
       " 'W[+3]',\n",
       " 'NO2[-1]',\n",
       " 'V[+2]',\n",
       " 'SO4[-1]',\n",
       " 'B(OH)3(aq)',\n",
       " 'KCl(aq)',\n",
       " 'Cl[-1]',\n",
       " 'SrBr2(aq)',\n",
       " 'PF6[-1]',\n",
       " 'YCl3(aq)',\n",
       " 'Pb(ClO4)2(aq)',\n",
       " 'Co[+3]',\n",
       " 'S2O3[-2]',\n",
       " 'H4N2O3(aq)',\n",
       " 'Cr[+2]',\n",
       " 'NaF(aq)',\n",
       " 'H4N[+1]',\n",
       " 'Au(CN)2[-1]',\n",
       " 'SO4[-2]',\n",
       " 'Tc[+3]',\n",
       " 'NaCl(aq)',\n",
       " 'Eu[+3]',\n",
       " 'Ru[+2]',\n",
       " 'V[+3]',\n",
       " 'Cu(NO3)2(aq)',\n",
       " 'Fe[+2]',\n",
       " 'Nd[+3]',\n",
       " 'SO3[-2]',\n",
       " 'BF4[-1]',\n",
       " 'Sb(HO2)2[-1]',\n",
       " 'B(H5C6)4[-1]',\n",
       " 'Mg[+2]',\n",
       " 'Cd(NO2)2(aq)',\n",
       " 'SO2[-1]',\n",
       " 'NaI(aq)',\n",
       " 'Ti[+3]',\n",
       " 'Cs[+1]',\n",
       " 'HSeO3[-1]',\n",
       " 'LiOH(aq)',\n",
       " 'LiCl(aq)',\n",
       " 'RbF(aq)',\n",
       " 'WO4[-2]',\n",
       " 'Pd[+2]',\n",
       " 'Tb[+3]',\n",
       " 'In[+2]',\n",
       " 'Re[-1]',\n",
       " 'Na2S2O3(aq)',\n",
       " 'KNO2(aq)',\n",
       " 'TcO4[-1]',\n",
       " 'U[+4]',\n",
       " 'BaI2(aq)',\n",
       " 'CO3[-2]',\n",
       " 'H4SNO4(aq)',\n",
       " 'CN[-1]',\n",
       " 'Sc[+2]',\n",
       " 'Cd(NO3)2(aq)',\n",
       " 'Na2SO4(aq)',\n",
       " 'IrO4[-1]',\n",
       " 'Lu[+3]',\n",
       " 'Au[+2]']"
      ]
     },
     "execution_count": 19,
     "metadata": {},
     "output_type": "execute_result"
    }
   ],
   "source": [
    "# list of all unique `formula`\n",
    "IonDB.distinct(\"formula\")"
   ]
  }
 ],
 "metadata": {
  "kernelspec": {
   "display_name": "Python (conda: skagit2)",
   "language": "python",
   "name": "skagit2"
  },
  "language_info": {
   "codemirror_mode": {
    "name": "ipython",
    "version": 3
   },
   "file_extension": ".py",
   "mimetype": "text/x-python",
   "name": "python",
   "nbconvert_exporter": "python",
   "pygments_lexer": "ipython3",
   "version": "3.10.6"
  }
 },
 "nbformat": 4,
 "nbformat_minor": 5
}
