{
 "cells": [
  {
   "attachments": {
    "b51ca3f4-e8bd-4b0a-a599-5f6724ad8fe5.png": {
     "image/png": "[encoded data removed]"
    }
   },
   "cell_type": "markdown",
   "id": "305d1216-9791-43dd-8d7f-ec90aa72a307",
   "metadata": {
    "tags": []
   },
   "source": [
    "# `pyEQL` Tutorial: Calculating Osmotic Pressure\n",
    "\n",
    "![pyeql-logo.png](attachment:b51ca3f4-e8bd-4b0a-a599-5f6724ad8fe5.png)\n",
    "\n",
    "`pyEQL` is an open-source `python` library for solution chemistry calculations and ion properties developed by the [Kingsbury Lab](https://www.kingsburylab.org/) at Princeton University.\n",
    "\n",
    "[Documentation](https://pyeql.readthedocs.io/en/latest/) | [How to Install](https://pyeql.readthedocs.io/en/latest/installation.html) | [GitHub](https://github.com/rkingsbury/pyEQL) "
   ]
  },
  {
   "cell_type": "markdown",
   "id": "90c14b65-36f0-4bb2-a3bf-f8e725cc897e",
   "metadata": {
    "tags": []
   },
   "source": [
    "## Installation\n",
    "\n",
    "Uncomment and run the code cell below, if you do not already have `pyEQL`"
   ]
  },
  {
   "cell_type": "code",
   "execution_count": 1,
   "id": "abb1f51c-38fc-4543-8b59-057b8c591ba9",
   "metadata": {},
   "outputs": [],
   "source": [
    "# pip install pyEQL"
   ]
  },
  {
   "cell_type": "markdown",
   "id": "1b8efc81-17bb-46dc-8a22-63e71ae458b7",
   "metadata": {},
   "source": [
    "## First, create a `Solution`\n",
    "\n",
    "`pyEQL`'s built-in property database contains Pitzer model parameters for many simple (binary) electrolytes. If such parameters are available, `pyEQL` will use them by default."
   ]
  },
  {
   "cell_type": "code",
   "execution_count": 2,
   "id": "55f1aea5-a5b8-49b8-a8e8-20856c4be6e7",
   "metadata": {
    "scrolled": true
   },
   "outputs": [],
   "source": [
    "from pyEQL import Solution\n",
    "\n",
    "# 2 mol/L NaCl\n",
    "s1 = Solution({\"Na+\": \"2 mol/L\", \"Cl-\": \"2 mol/L\"})"
   ]
  },
  {
   "cell_type": "markdown",
   "id": "23b21981-7568-4e29-a93c-4017a32629b4",
   "metadata": {},
   "source": [
    "## Get the osmotic pressure\n",
    "\n",
    "Note that the osmotic pressure (and most `Solution` properties) are returned as `pint` `Quantity` objects (see [Converting Units](https://pyeql.readthedocs.io/en/latest/units.html))."
   ]
  },
  {
   "cell_type": "code",
   "execution_count": 3,
   "id": "5c037d7c-0a16-4d0a-b2e7-ad2d43a4d3bb",
   "metadata": {},
   "outputs": [
    {
     "data": {
      "text/html": [
       "10224795.514383134 Pa"
      ],
      "text/latex": [
       "$10224795.514383134\\ \\mathrm{Pa}$"
      ],
      "text/plain": [
       "10224795.514383134 <Unit('pascal')>"
      ]
     },
     "execution_count": 3,
     "metadata": {},
     "output_type": "execute_result"
    }
   ],
   "source": [
    "s1.osmotic_pressure"
   ]
  },
  {
   "cell_type": "markdown",
   "id": "2b7800c8-e23a-4d6b-9d36-77ac51226fb4",
   "metadata": {},
   "source": [
    "If you want the osmotic pressure in different units, or you only want the magnitude, use `to()` and `magnitude`, respectively"
   ]
  },
  {
   "cell_type": "code",
   "execution_count": 4,
   "id": "55f0b945-fe6f-464e-a855-30ec0e5292c5",
   "metadata": {},
   "outputs": [
    {
     "data": {
      "text/html": [
       "102.24795514383135 bar"
      ],
      "text/latex": [
       "$102.24795514383135\\ \\mathrm{bar}$"
      ],
      "text/plain": [
       "102.24795514383135 <Unit('bar')>"
      ]
     },
     "execution_count": 4,
     "metadata": {},
     "output_type": "execute_result"
    }
   ],
   "source": [
    "s1.osmotic_pressure.to(\"bar\")"
   ]
  },
  {
   "cell_type": "code",
   "execution_count": 5,
   "id": "51adb7d2-40f0-4072-adce-9ca2d980e5ef",
   "metadata": {},
   "outputs": [
    {
     "data": {
      "text/plain": [
       "102.24795514383135"
      ]
     },
     "execution_count": 5,
     "metadata": {},
     "output_type": "execute_result"
    }
   ],
   "source": [
    "s1.osmotic_pressure.to(\"bar\").magnitude"
   ]
  },
  {
   "cell_type": "markdown",
   "id": "6b754001-1ee7-4348-882a-6e6f6e046b93",
   "metadata": {},
   "source": [
    "## Use a `for` loop for multiple calculations\n",
    "\n",
    "You can rapidly get estimates for multiple concentrations (or temperatures, or solutes) by using a `for` loop. Notice how in the example below, we use [f-strings](https://realpython.com/python-f-strings/) to insert the desired concentration (from the `for` loop) into the argument passed to `Solution` and to print the results."
   ]
  },
  {
   "cell_type": "code",
   "execution_count": 6,
   "id": "53ab967d-1cac-4e3a-9a4d-11f9b28f5bd2",
   "metadata": {},
   "outputs": [
    {
     "name": "stdout",
     "output_type": "stream",
     "text": [
      "At C=0.1 M, the osmotic pressure is 4.63 bar.\n",
      "At C=0.5 M, the osmotic pressure is 23.07 bar.\n",
      "At C=1.0 M, the osmotic pressure is 47.40 bar.\n",
      "At C=2.0 M, the osmotic pressure is 102.25 bar.\n",
      "At C=4.0 M, the osmotic pressure is 246.95 bar.\n"
     ]
    }
   ],
   "source": [
    "for conc in [0.1, 0.5, 1, 2, 4]:\n",
    "    s1 = Solution({\"Na+\": f\"{conc} mol/L\", \"Cl-\": f\"{conc} mol/L\"})\n",
    "    print(f\"At C={conc:.1f} M, the osmotic pressure is {s1.osmotic_pressure.to('bar'):.2f}.\")"
   ]
  },
  {
   "cell_type": "markdown",
   "id": "ba4ff669-b6c0-4592-b9be-1b088b548cfc",
   "metadata": {},
   "source": [
    "## Compare different modeling engines\n",
    "\n",
    "`pyEQL` contains several different [modeling engines](https://pyeql.readthedocs.io/en/latest/engines.html) that can calculate activity coefficients or osmotic pressures. At present, there are three options:\n",
    "\n",
    "1. The `native` or built-in engine, which includes an implementation of the Piter model (Default).\n",
    "2. the `phreeqc` engine, which utilizes the USGS PHREEQC model with the `phreeqc.dat` database.\n",
    "3. An ideal solution model (`ideal`) which does not account for solution non-ideality.\n",
    "\n",
    "You select a modeling engine using the `engine` keyword argument when you create a `Solution`. Let's compare the preditions from the three models."
   ]
  },
  {
   "cell_type": "code",
   "execution_count": 7,
   "id": "6962da9e-f510-483f-8ab6-df29a054441a",
   "metadata": {},
   "outputs": [],
   "source": [
    "s_ideal = Solution({\"Na+\": \"2 mol/L\", \"Cl-\": \"2 mol/L\"}, engine=\"ideal\")\n",
    "s_phreeqc = Solution({\"Na+\": \"2 mol/L\", \"Cl-\": \"2 mol/L\"}, engine=\"phreeqc\")\n",
    "s_native = Solution({\"Na+\": \"2 mol/L\", \"Cl-\": \"2 mol/L\"}, engine=\"native\")"
   ]
  },
  {
   "cell_type": "code",
   "execution_count": 8,
   "id": "2a627a29-e7b4-458e-86bb-e23b71ae8f65",
   "metadata": {},
   "outputs": [
    {
     "name": "stderr",
     "output_type": "stream",
     "text": [
      "WARNING 2023-11-10 11:48:57,162 solution.py get_water_activity 1934 Pitzer parameters not found. Water activity set equal to mole fraction\n"
     ]
    },
    {
     "data": {
      "text/html": [
       "95.73878424096024 bar"
      ],
      "text/latex": [
       "$95.73878424096024\\ \\mathrm{bar}$"
      ],
      "text/plain": [
       "95.73878424096024 <Unit('bar')>"
      ]
     },
     "execution_count": 8,
     "metadata": {},
     "output_type": "execute_result"
    }
   ],
   "source": [
    "s_ideal.osmotic_pressure.to(\"bar\")"
   ]
  },
  {
   "cell_type": "code",
   "execution_count": 9,
   "id": "29ef5458-fc42-44de-a3b5-05e80987f9e8",
   "metadata": {},
   "outputs": [
    {
     "data": {
      "text/html": [
       "95.73878424096024 bar"
      ],
      "text/latex": [
       "$95.73878424096024\\ \\mathrm{bar}$"
      ],
      "text/plain": [
       "95.73878424096024 <Unit('bar')>"
      ]
     },
     "execution_count": 9,
     "metadata": {},
     "output_type": "execute_result"
    }
   ],
   "source": [
    "s_phreeqc.osmotic_pressure.to(\"bar\")"
   ]
  },
  {
   "cell_type": "code",
   "execution_count": 10,
   "id": "5807fbde-dddd-4883-8bf0-1014ce08833b",
   "metadata": {},
   "outputs": [
    {
     "data": {
      "text/html": [
       "102.24795514383135 bar"
      ],
      "text/latex": [
       "$102.24795514383135\\ \\mathrm{bar}$"
      ],
      "text/plain": [
       "102.24795514383135 <Unit('bar')>"
      ]
     },
     "execution_count": 10,
     "metadata": {},
     "output_type": "execute_result"
    }
   ],
   "source": [
    "s_native.osmotic_pressure.to(\"bar\")"
   ]
  },
  {
   "cell_type": "markdown",
   "id": "c49fb2e3-71a3-49ff-9f17-35e64f6f6d54",
   "metadata": {},
   "source": [
    "## Plot the comparison vs. experiment\n",
    "\n",
    "We can make a plot showing how the 3 models compare by combining the two previous steps (using a `for` loop plus changing the `engine` keyword argument. Note that this example makes use of `matplotlib` for plotting."
   ]
  },
  {
   "cell_type": "code",
   "execution_count": 11,
   "id": "d38dd675-0767-4eea-ab11-d85c4613e59e",
   "metadata": {},
   "outputs": [],
   "source": [
    "# create empty lists to hold the results\n",
    "pi_ideal = []\n",
    "pi_phreeqc = []\n",
    "pi_native = []\n",
    "\n",
    "concentrations = [0.1, 0.2, 0.3, 0.4, 0.5, 1, 1.4, 2, 2.5, 3, 3.5, 4]\n",
    "\n",
    "for conc in concentrations:\n",
    "    s_ideal = Solution({\"Na+\": f\"{conc} mol/kg\", \"Cl-\": f\"{conc} mol/kg\"}, engine=\"ideal\")\n",
    "    s_phreeqc = Solution({\"Na+\": f\"{conc} mol/kg\", \"Cl-\": f\"{conc} mol/kg\"}, engine=\"phreeqc\")\n",
    "    s_native = Solution({\"Na+\": f\"{conc} mol/kg\", \"Cl-\": f\"{conc} mol/kg\"}, engine=\"native\")\n",
    "\n",
    "    # store the osmotic pressures in the respective lists\n",
    "    # note that we have to just store the .magnitude because matplotlib can't plot Quantity\n",
    "    pi_ideal.append(s_ideal.osmotic_pressure.to(\"bar\").magnitude)\n",
    "    pi_phreeqc.append(s_phreeqc.osmotic_pressure.to(\"bar\").magnitude)\n",
    "    pi_native.append(s_native.osmotic_pressure.to(\"bar\").magnitude)"
   ]
  },
  {
   "cell_type": "markdown",
   "id": "a651b33f-5572-40a2-8587-bd7af7a71170",
   "metadata": {},
   "source": [
    "We will include experimental data from the [IDST](https://idst.inl.gov/) as a benchmark. The IDST gives us water activity, which we convert into osmotic pressure according to\n",
    "\n",
    "$$\n",
    "\\Pi = -\\frac{RT}{V_{w}} \\ln a_{w}\n",
    "$$\n",
    "\n",
    "Where $\\Pi$ is the osmotic pressure, $V_{w}$ is the partial molar volume of water (18.2 cm**3/mol), and $a_{w}$ is the water\n",
    "            activity."
   ]
  },
  {
   "cell_type": "code",
   "execution_count": 12,
   "id": "008d1e80-536b-4346-9527-462deacd6b70",
   "metadata": {},
   "outputs": [],
   "source": [
    "import math\n",
    "\n",
    "# water activity at [0.1, 0.2, 0.3, 0.4, 0.5, 1, 1.5, 2, 2.5, 3, 3.5, 4] mol/kg\n",
    "water_activity_idst = [\n",
    "    0.99664,\n",
    "    0.993353,\n",
    "    0.99008,\n",
    "    0.986804,\n",
    "    0.98352,\n",
    "    0.966828,\n",
    "    0.953166,\n",
    "    0.93191,\n",
    "    0.913072,\n",
    "    0.89347,\n",
    "    0.872859,\n",
    "    0.85133,\n",
    "]\n",
    "\n",
    "# calculate osmotic pressure as -RT/Vw ln(a_w). Factor 10 converts to bar.\n",
    "pi_idst = [-8.314 * 298.15 / 18.2 * math.log(a) * 10 for a in water_activity_idst]"
   ]
  },
  {
   "cell_type": "code",
   "execution_count": 13,
   "id": "1082bad0-c9e1-4e16-941d-fd908ea402fe",
   "metadata": {},
   "outputs": [
    {
     "data": {
      "text/plain": [
       "Text(0.5, 0.98, 'pyEQL prediction of NaCl osmotic pressure')"
      ]
     },
     "execution_count": 13,
     "metadata": {},
     "output_type": "execute_result"
    },
    {
     "data": {
      "image/png": "[encoded data removed]",
      "text/plain": [
       "<Figure size 640x480 with 1 Axes>"
      ]
     },
     "metadata": {},
     "output_type": "display_data"
    }
   ],
   "source": [
    "# plot the results!\n",
    "from matplotlib import pyplot as plt\n",
    "\n",
    "fig, ax = plt.subplots()\n",
    "ax.plot(concentrations, pi_ideal, label=\"engine='ideal'\", ls=\"--\", color=\"gray\")\n",
    "ax.plot(concentrations, pi_phreeqc, label=\"engine='phreeqc'\", ls=\":\", color=\"green\")\n",
    "ax.plot(concentrations, pi_native, label=\"engine='native'\", ls=\"-\", color=\"navy\")\n",
    "ax.plot(concentrations, pi_idst, label=\"experiment\", ls=\"\", color=\"red\", marker=\"x\")\n",
    "ax.legend()\n",
    "ax.set_xlabel(\"Solute Concentration (M)\")\n",
    "ax.set_ylabel(\"Osmotic Pressure (bar)\")\n",
    "fig.suptitle(\"pyEQL prediction of NaCl osmotic pressure\")"
   ]
  },
  {
   "cell_type": "code",
   "execution_count": null,
   "id": "cd14cb5f-f9a4-4006-ae26-2ef827d2412d",
   "metadata": {},
   "outputs": [],
   "source": []
  }
 ],
 "metadata": {
  "kernelspec": {
   "display_name": "Python (conda: skagit2)",
   "language": "python",
   "name": "skagit2"
  },
  "language_info": {
   "codemirror_mode": {
    "name": "ipython",
    "version": 3
   },
   "file_extension": ".py",
   "mimetype": "text/x-python",
   "name": "python",
   "nbconvert_exporter": "python",
   "pygments_lexer": "ipython3",
   "version": "3.10.6"
  }
 },
 "nbformat": 4,
 "nbformat_minor": 5
}
