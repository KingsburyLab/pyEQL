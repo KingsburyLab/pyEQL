{
 "cells": [
  {
   "attachments": {
    "b51ca3f4-e8bd-4b0a-a599-5f6724ad8fe5.png": {
     "image/png": "[encoded data removed]"
    }
   },
   "cell_type": "markdown",
   "id": "305d1216-9791-43dd-8d7f-ec90aa72a307",
   "metadata": {
    "tags": []
   },
   "source": [
    "# `pyEQL` Overview\n",
    "\n",
    "![pyeql-logo.png](attachment:b51ca3f4-e8bd-4b0a-a599-5f6724ad8fe5.png)\n",
    "\n",
    "`pyEQL` is an open-source `python` library for solution chemistry calculations and ion properties developed by the [Kingsbury Lab](https://www.kingsburylab.org/) at Princeton University.\n",
    "\n",
    "[Documentation](https://pyeql.readthedocs.io/en/latest/) | [How to Install](https://pyeql.readthedocs.io/en/latest/installation.html) | [GitHub](https://github.com/rkingsbury/pyEQL) "
   ]
  },
  {
   "cell_type": "markdown",
   "id": "90c14b65-36f0-4bb2-a3bf-f8e725cc897e",
   "metadata": {
    "tags": []
   },
   "source": [
    "## Installation\n",
    "\n",
    "Uncomment and run the code cell below, if you do not already have `pyEQL`"
   ]
  },
  {
   "cell_type": "code",
   "execution_count": 2,
   "id": "abb1f51c-38fc-4543-8b59-057b8c591ba9",
   "metadata": {},
   "outputs": [],
   "source": [
    "# pip install pyEQL"
   ]
  },
  {
   "cell_type": "markdown",
   "id": "112bdcee-502c-4cb4-8e48-80f23aee844c",
   "metadata": {},
   "source": [
    "## Main feature: The `Solution` class"
   ]
  },
  {
   "cell_type": "code",
   "execution_count": 1,
   "id": "55f1aea5-a5b8-49b8-a8e8-20856c4be6e7",
   "metadata": {
    "scrolled": true
   },
   "outputs": [],
   "source": [
    "from pyEQL import Solution"
   ]
  },
  {
   "cell_type": "code",
   "execution_count": 2,
   "id": "c7193cc4-0830-461b-979e-49be9fabfe3f",
   "metadata": {
    "tags": []
   },
   "outputs": [
    {
     "name": "stderr",
     "output_type": "stream",
     "text": [
      "WARNING 2023-11-07 11:18:03,638 solution.py _get_property 2084 Partial molar volume for species H[+1] not corrected for temperature\n",
      "WARNING 2023-11-07 11:18:03,648 solution.py _get_property 2084 Partial molar volume for species OH[-1] not corrected for temperature\n",
      "WARNING 2023-11-07 11:18:03,922 solution.py _get_property 2084 Partial molar volume for species Mg[+2] not corrected for temperature\n",
      "WARNING 2023-11-07 11:18:03,951 activity_correction.py _debye_parameter_volume 231 Debye-Huckel limiting slope for volume is approximate when T is not equal to 25 degC\n"
     ]
    }
   ],
   "source": [
    "s1 = Solution({\"Mg+2\": \"0.2 mol/L\", \"Cl-1\": \"0.4 mol/L\"}, temperature=\"20 degC\")"
   ]
  },
  {
   "cell_type": "markdown",
   "id": "a74a8257-7312-4c93-a89a-4a521009217d",
   "metadata": {},
   "source": [
    "### Bulk Properties"
   ]
  },
  {
   "cell_type": "code",
   "execution_count": 3,
   "id": "d3155177-a702-403a-9833-210ab2fed820",
   "metadata": {},
   "outputs": [
    {
     "data": {
      "text/html": [
       "1.0138757383570756 kg/l"
      ],
      "text/latex": [
       "$1.0138757383570756\\ \\frac{\\mathrm{kg}}{\\mathrm{l}}$"
      ],
      "text/plain": [
       "1.0138757383570756 <Unit('kilogram / liter')>"
      ]
     },
     "execution_count": 3,
     "metadata": {},
     "output_type": "execute_result"
    }
   ],
   "source": [
    "s1.density"
   ]
  },
  {
   "cell_type": "code",
   "execution_count": 4,
   "id": "9aac5f2e-b7fc-4d72-ab17-0f5b40f683b8",
   "metadata": {},
   "outputs": [
    {
     "name": "stderr",
     "output_type": "stream",
     "text": [
      "WARNING 2023-11-07 11:18:04,061 engines.py get_activity_coefficient 314 Ionic strength too high to estimate activity for species H[+1]. Specify parameters for Pitzer model. Returning unit activity coefficient\n",
      "WARNING 2023-11-07 11:18:04,079 engines.py get_activity_coefficient 314 Ionic strength too high to estimate activity for species OH[-1]. Specify parameters for Pitzer model. Returning unit activity coefficient\n"
     ]
    },
    {
     "data": {
      "text/html": [
       "3.299995263108893 S/m"
      ],
      "text/latex": [
       "$3.299995263108893\\ \\frac{\\mathrm{S}}{\\mathrm{m}}$"
      ],
      "text/plain": [
       "3.299995263108893 <Unit('siemens / meter')>"
      ]
     },
     "execution_count": 4,
     "metadata": {},
     "output_type": "execute_result"
    }
   ],
   "source": [
    "s1.conductivity"
   ]
  },
  {
   "cell_type": "code",
   "execution_count": 5,
   "id": "a2caf642-26d9-42cc-af85-262736f3107d",
   "metadata": {},
   "outputs": [
    {
     "data": {
      "text/html": [
       "1 l"
      ],
      "text/latex": [
       "$1\\ \\mathrm{l}$"
      ],
      "text/plain": [
       "1 <Unit('liter')>"
      ]
     },
     "execution_count": 5,
     "metadata": {},
     "output_type": "execute_result"
    }
   ],
   "source": [
    "s1.volume"
   ]
  },
  {
   "cell_type": "code",
   "execution_count": 6,
   "id": "bfb9d952-dd03-495a-9bf7-639a5d5ec683",
   "metadata": {},
   "outputs": [
    {
     "data": {
      "text/html": [
       "1 atm"
      ],
      "text/latex": [
       "$1\\ \\mathrm{atm}$"
      ],
      "text/plain": [
       "1 <Unit('standard_atmosphere')>"
      ]
     },
     "execution_count": 6,
     "metadata": {},
     "output_type": "execute_result"
    }
   ],
   "source": [
    "s1.pressure"
   ]
  },
  {
   "cell_type": "code",
   "execution_count": 7,
   "id": "ce4a3e73-3a4c-4674-bc90-9b679f18ca95",
   "metadata": {},
   "outputs": [
    {
     "data": {
      "text/html": [
       "293.15 K"
      ],
      "text/latex": [
       "$293.15\\ \\mathrm{K}$"
      ],
      "text/plain": [
       "293.15 <Unit('kelvin')>"
      ]
     },
     "execution_count": 7,
     "metadata": {},
     "output_type": "execute_result"
    }
   ],
   "source": [
    "s1.temperature"
   ]
  },
  {
   "cell_type": "code",
   "execution_count": 8,
   "id": "7895882f-31a7-4817-ac52-66494723373c",
   "metadata": {},
   "outputs": [
    {
     "data": {
      "text/html": [
       "1286752.4185332006 Pa"
      ],
      "text/latex": [
       "$1286752.4185332006\\ \\mathrm{Pa}$"
      ],
      "text/plain": [
       "1286752.4185332006 <Unit('pascal')>"
      ]
     },
     "execution_count": 8,
     "metadata": {},
     "output_type": "execute_result"
    }
   ],
   "source": [
    "s1.osmotic_pressure"
   ]
  },
  {
   "cell_type": "markdown",
   "id": "17992986-53d2-49cb-9200-b93706d066a8",
   "metadata": {},
   "source": [
    "### Composition"
   ]
  },
  {
   "cell_type": "code",
   "execution_count": 9,
   "id": "012154b4-7de9-4484-973f-30a28d96d92a",
   "metadata": {},
   "outputs": [
    {
     "data": {
      "text/plain": [
       "{'H2O(aq)': 55.221652761186476, 'Cl[-1]': 0.4, 'Mg[+2]': 0.2, 'H[+1]': 1e-07, 'OH[-1]': 1e-07}"
      ]
     },
     "execution_count": 9,
     "metadata": {},
     "output_type": "execute_result"
    }
   ],
   "source": [
    "s1.components"
   ]
  },
  {
   "cell_type": "code",
   "execution_count": 10,
   "id": "ccd6cc51-c3d7-4980-bb9a-abacc47f7108",
   "metadata": {},
   "outputs": [
    {
     "data": {
      "text/plain": [
       "'H2O(aq)'"
      ]
     },
     "execution_count": 10,
     "metadata": {},
     "output_type": "execute_result"
    }
   ],
   "source": [
    "s1.solvent"
   ]
  },
  {
   "cell_type": "code",
   "execution_count": 11,
   "id": "4251a60d-58f4-4083-8c67-f0bc3813c70a",
   "metadata": {},
   "outputs": [
    {
     "data": {
      "text/plain": [
       "{'Mg[+2]': 0.2, 'H[+1]': 1e-07}"
      ]
     },
     "execution_count": 11,
     "metadata": {},
     "output_type": "execute_result"
    }
   ],
   "source": [
    "s1.cations"
   ]
  },
  {
   "cell_type": "code",
   "execution_count": 12,
   "id": "e25db309-a041-4e5e-bbff-9a7bf4c11c94",
   "metadata": {},
   "outputs": [
    {
     "data": {
      "text/plain": [
       "{'Cl[-1]': 0.4, 'OH[-1]': 1e-07}"
      ]
     },
     "execution_count": 12,
     "metadata": {},
     "output_type": "execute_result"
    }
   ],
   "source": [
    "s1.anions"
   ]
  },
  {
   "cell_type": "code",
   "execution_count": 13,
   "id": "2a8c0a98-9bef-4c42-9eb8-84bfffb087d1",
   "metadata": {},
   "outputs": [
    {
     "data": {
      "text/plain": [
       "{'H2O(aq)': 55.221652761186476}"
      ]
     },
     "execution_count": 13,
     "metadata": {},
     "output_type": "execute_result"
    }
   ],
   "source": [
    "s1.neutrals"
   ]
  },
  {
   "cell_type": "markdown",
   "id": "a0a74dc8-f48b-41fa-8e62-106d8e2e56d5",
   "metadata": {},
   "source": [
    "### Species Concentrations"
   ]
  },
  {
   "cell_type": "code",
   "execution_count": 14,
   "id": "3e1201bd-d509-49ae-84ec-b1af704a9902",
   "metadata": {},
   "outputs": [
    {
     "data": {
      "text/html": [
       "0.20000000000000007 M"
      ],
      "text/latex": [
       "$0.20000000000000007\\ \\mathrm{M}$"
      ],
      "text/plain": [
       "0.20000000000000007 <Unit('molar')>"
      ]
     },
     "execution_count": 14,
     "metadata": {},
     "output_type": "execute_result"
    }
   ],
   "source": [
    "s1.get_amount(\"Mg+2\", \"M\")"
   ]
  },
  {
   "cell_type": "code",
   "execution_count": 15,
   "id": "d4fa6515-ccb2-44e4-bb30-fb9f9bff6a99",
   "metadata": {},
   "outputs": [
    {
     "data": {
      "text/html": [
       "1.3987118404647676"
      ],
      "text/latex": [
       "$1.3987118404647676\\$"
      ],
      "text/plain": [
       "1.3987118404647676 <Unit('dimensionless')>"
      ]
     },
     "execution_count": 15,
     "metadata": {},
     "output_type": "execute_result"
    }
   ],
   "source": [
    "s1.get_amount(\"Cl-\", \"%\")"
   ]
  },
  {
   "cell_type": "code",
   "execution_count": 16,
   "id": "2656ed7a-27c1-4c02-9d8c-b8db62c1ea3e",
   "metadata": {},
   "outputs": [
    {
     "data": {
      "text/html": [
       "0.4 mol/l"
      ],
      "text/latex": [
       "$0.4\\ \\frac{\\mathrm{mol}}{\\mathrm{l}}$"
      ],
      "text/plain": [
       "0.4 <Unit('mole / liter')>"
      ]
     },
     "execution_count": 16,
     "metadata": {},
     "output_type": "execute_result"
    }
   ],
   "source": [
    "s1.get_amount(\"Mg+2\", \"eq/L\")"
   ]
  },
  {
   "cell_type": "code",
   "execution_count": 17,
   "id": "ad9cd84e-ae7c-406e-8360-4518e112e0d7",
   "metadata": {},
   "outputs": [
    {
     "data": {
      "text/html": [
       "4886244.60412788 µg/kg"
      ],
      "text/latex": [
       "$4886244.60412788\\ \\frac{\\mathrm{µg}}{\\mathrm{kg}}$"
      ],
      "text/plain": [
       "4886244.60412788 <Unit('microgram / kilogram')>"
      ]
     },
     "execution_count": 17,
     "metadata": {},
     "output_type": "execute_result"
    }
   ],
   "source": [
    "s1.get_amount(\"Mg+2\", \"ug/kg\")"
   ]
  },
  {
   "cell_type": "markdown",
   "id": "1bbd0fcb-c145-48d1-a917-c77ae2d9e7b3",
   "metadata": {},
   "source": [
    "### Transport"
   ]
  },
  {
   "cell_type": "code",
   "execution_count": 18,
   "id": "be744f20-22df-4e46-ab48-2fbd8a63cdc2",
   "metadata": {},
   "outputs": [
    {
     "data": {
      "text/html": [
       "0.0"
      ],
      "text/latex": [
       "$0.0\\$"
      ],
      "text/plain": [
       "0.0 <Unit('dimensionless')>"
      ]
     },
     "execution_count": 18,
     "metadata": {},
     "output_type": "execute_result"
    }
   ],
   "source": [
    "s1.get_transport_number(\"Na+\")"
   ]
  },
  {
   "cell_type": "code",
   "execution_count": 19,
   "id": "8d849212-aad4-4b95-ac3a-572346b0a6fd",
   "metadata": {},
   "outputs": [
    {
     "data": {
      "text/html": [
       "0.40998795156327783"
      ],
      "text/latex": [
       "$0.40998795156327783\\$"
      ],
      "text/plain": [
       "0.40998795156327783 <Unit('dimensionless')>"
      ]
     },
     "execution_count": 19,
     "metadata": {},
     "output_type": "execute_result"
    }
   ],
   "source": [
    "s1.get_transport_number(\"Mg+2\")"
   ]
  },
  {
   "cell_type": "code",
   "execution_count": 20,
   "id": "d467b3fc-032c-4a90-a102-7ad796723629",
   "metadata": {},
   "outputs": [
    {
     "data": {
      "text/html": [
       "0.5900109897851136"
      ],
      "text/latex": [
       "$0.5900109897851136\\$"
      ],
      "text/plain": [
       "0.5900109897851136 <Unit('dimensionless')>"
      ]
     },
     "execution_count": 20,
     "metadata": {},
     "output_type": "execute_result"
    }
   ],
   "source": [
    "s1.get_transport_number(\"Cl-\")"
   ]
  },
  {
   "cell_type": "markdown",
   "id": "f00b0f7a-ef35-45d4-8e81-26ae48733096",
   "metadata": {},
   "source": [
    "### Speciation"
   ]
  },
  {
   "cell_type": "code",
   "execution_count": 21,
   "id": "40da1bdd-6c43-4d22-a648-03bfdd69e88a",
   "metadata": {},
   "outputs": [],
   "source": [
    "s1.equilibrate()"
   ]
  },
  {
   "cell_type": "code",
   "execution_count": 22,
   "id": "3e3ce899-3907-4e07-ac53-205c4a3ac31c",
   "metadata": {},
   "outputs": [
    {
     "data": {
      "text/plain": [
       "{'H2O(aq)': 55.238455538403954, 'Cl[-1]': 0.38323989957700755, 'Mg[+2]': 0.18323990520853942, 'MgCl[+1]': 0.016760093825573405, 'H[+1]': 1.2403230417432767e-07, 'OH[-1]': 9.844314720800745e-08, 'HCl(aq)': 5.431780489909693e-09, 'MgOH[+1]': 7.932661202804441e-15, 'O2(aq)': 3.1477649388058775e-26, 'HClO(aq)': 8.450946375546259e-29, 'ClO[-1]': 3.367672345557701e-29, 'H2(aq)': 5.442728186726209e-35, 'ClO2[-1]': 0.0, 'ClO3[-1]': 0.0, 'ClO4[-1]': 0.0, 'HClO2(aq)': 0.0}"
      ]
     },
     "execution_count": 22,
     "metadata": {},
     "output_type": "execute_result"
    }
   ],
   "source": [
    "s1.components"
   ]
  },
  {
   "cell_type": "markdown",
   "id": "1a271802-e715-4505-8e86-e987f257def3",
   "metadata": {},
   "source": [
    "### Saving `Solution` to a file"
   ]
  },
  {
   "cell_type": "code",
   "execution_count": 23,
   "id": "d76cb8ab-facc-4a6e-9a3d-143730d2d5cf",
   "metadata": {},
   "outputs": [],
   "source": [
    "from monty.serialization import dumpfn\n",
    "\n",
    "dumpfn(s1, \"test_solution.json\")"
   ]
  },
  {
   "cell_type": "code",
   "execution_count": 24,
   "id": "fd9967de-0881-4c68-942f-b56da4033701",
   "metadata": {},
   "outputs": [
    {
     "data": {
      "text/plain": [
       "{'@module': 'pyEQL.solution',\n",
       " '@class': 'Solution',\n",
       " '@version': '0.9.0.post1.dev3+g22e5c4a',\n",
       " 'solutes': {'H2O(aq)': '55.238455538403954 mol',\n",
       "  'Cl[-1]': '0.38323989957700755 mol',\n",
       "  'Mg[+2]': '0.18323990520853942 mol',\n",
       "  'MgCl[+1]': '0.016760093825573405 mol',\n",
       "  'H[+1]': '1.2403230417432767e-07 mol',\n",
       "  'OH[-1]': '9.844314720800745e-08 mol',\n",
       "  'HCl(aq)': '5.431780489909693e-09 mol',\n",
       "  'MgOH[+1]': '7.932661202804441e-15 mol',\n",
       "  'O2(aq)': '3.1477649388058775e-26 mol',\n",
       "  'HClO(aq)': '8.450946375546259e-29 mol',\n",
       "  'ClO[-1]': '3.367672345557701e-29 mol',\n",
       "  'H2(aq)': '5.442728186726209e-35 mol',\n",
       "  'ClO2[-1]': '0.0 mol',\n",
       "  'ClO3[-1]': '0.0 mol',\n",
       "  'ClO4[-1]': '0.0 mol',\n",
       "  'HClO2(aq)': '0.0 mol'},\n",
       " 'volume': '1 l',\n",
       " 'temperature': '293.15 K',\n",
       " 'pressure': '1 atm',\n",
       " 'pH': 6.90646518824501,\n",
       " 'pE': 8.5,\n",
       " 'balance_charge': None,\n",
       " 'solvent': 'H2O(aq)',\n",
       " 'engine': 'native',\n",
       " 'database': {'@module': 'maggma.stores.mongolike',\n",
       "  '@class': 'JSONStore',\n",
       "  '@version': '0.57.4',\n",
       "  'paths': ['/home/ryan/mambaforge/envs/pbx/code/pyEQL/src/pyEQL/database/pyeql_db.json'],\n",
       "  'read_only': True,\n",
       "  'serialization_option': None,\n",
       "  'serialization_default': None,\n",
       "  'key': 'formula'}}"
      ]
     },
     "execution_count": 24,
     "metadata": {},
     "output_type": "execute_result"
    }
   ],
   "source": [
    "s1.as_dict()"
   ]
  },
  {
   "cell_type": "markdown",
   "id": "7175594b-e6ab-4779-b4ea-a21265337f11",
   "metadata": {},
   "source": [
    "## Units-Aware Calculations"
   ]
  },
  {
   "cell_type": "code",
   "execution_count": 25,
   "id": "0a4503fa-d37f-43b0-b62c-093fe1d3ee56",
   "metadata": {},
   "outputs": [
    {
     "data": {
      "text/html": [
       "1000.0000000000001 ml"
      ],
      "text/latex": [
       "$1000.0000000000001\\ \\mathrm{ml}$"
      ],
      "text/plain": [
       "1000.0000000000001 <Unit('milliliter')>"
      ]
     },
     "execution_count": 25,
     "metadata": {},
     "output_type": "execute_result"
    }
   ],
   "source": [
    "s1.volume.to(\"mL\")"
   ]
  },
  {
   "cell_type": "code",
   "execution_count": 26,
   "id": "4b3c06c0-a73d-4ba3-8ec4-8d196867208c",
   "metadata": {},
   "outputs": [
    {
     "data": {
      "text/html": [
       "0.26417205235814856 gal"
      ],
      "text/latex": [
       "$0.26417205235814856\\ \\mathrm{gal}$"
      ],
      "text/plain": [
       "0.26417205235814856 <Unit('gallon')>"
      ]
     },
     "execution_count": 26,
     "metadata": {},
     "output_type": "execute_result"
    }
   ],
   "source": [
    "s1.volume.to(\"gal\")"
   ]
  },
  {
   "cell_type": "code",
   "execution_count": 27,
   "id": "c086ca8f-cdd7-4698-94e0-d7de1f5abd79",
   "metadata": {},
   "outputs": [
    {
     "name": "stderr",
     "output_type": "stream",
     "text": [
      "WARNING 2023-11-07 11:18:04,616 engines.py get_osmotic_coefficient 462 Cannot calculate osmotic coefficient because Pitzer parameters for salt HClO3 are not specified. Returning unit osmotic coefficient\n",
      "WARNING 2023-11-07 11:18:04,621 engines.py get_osmotic_coefficient 462 Cannot calculate osmotic coefficient because Pitzer parameters for salt HClO2 are not specified. Returning unit osmotic coefficient\n"
     ]
    },
    {
     "data": {
      "text/plain": [
       "12.630074635540739"
      ]
     },
     "execution_count": 27,
     "metadata": {},
     "output_type": "execute_result"
    }
   ],
   "source": [
    "s1.osmotic_pressure.to(\"bar\").magnitude"
   ]
  },
  {
   "cell_type": "markdown",
   "id": "e42ec30f-eb5f-4f0f-89ce-332288e03db4",
   "metadata": {},
   "source": [
    "## Contribution Opportunities\n",
    "\n",
    "**Benchmarking**\n",
    "- Compiling additional validation data for activity, conductivity, etc.\n",
    "- Quantifying error associated with different models\n",
    "- Refactoring unit tests suite to separate benchmarking\n",
    "\n",
    "**Documentation**\n",
    "- Writing tutorials\n",
    "- Writing expanded docs\n",
    "- Cleaning up / updating docstrings\n",
    "\n",
    "**New Features**\n",
    "- Better viscosity model\n",
    "- Expanded unit testing (increase test coverage to 90%)\n",
    "- Additional properties\n",
    "- Additional mixing rules / models for mixed electrolytes\n",
    "\n",
    "**Database**\n",
    "- Expand database doverage to include additional species\n",
    "- More viscosity coefficients\n",
    "- Add 'sho' parameter\n",
    "- More diffusion coefficients\n",
    "\n",
    "**Software Engineering**\n",
    "- Additional refactoring (e.g., `mypy` linting for robustness)\n",
    "- Bugfixes"
   ]
  }
 ],
 "metadata": {
  "kernelspec": {
   "display_name": "Python 3 (ipykernel)",
   "language": "python",
   "name": "python3"
  },
  "language_info": {
   "codemirror_mode": {
    "name": "ipython",
    "version": 3
   },
   "file_extension": ".py",
   "mimetype": "text/x-python",
   "name": "python",
   "nbconvert_exporter": "python",
   "pygments_lexer": "ipython3",
   "version": "3.10.6"
  }
 },
 "nbformat": 4,
 "nbformat_minor": 5
}
